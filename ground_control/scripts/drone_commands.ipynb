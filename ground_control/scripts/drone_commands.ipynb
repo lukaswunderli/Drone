{
 "cells": [
  {
   "cell_type": "code",
   "execution_count": 1,
   "metadata": {},
   "outputs": [
    {
     "name": "stdout",
     "output_type": "stream",
     "text": [
      "Connecting to vehicle on: udp:0.0.0.0:14550\n"
     ]
    },
    {
     "name": "stderr",
     "output_type": "stream",
     "text": [
      "WARNING:dronekit:Link timeout, no heartbeat in last 5 seconds\n",
      "CRITICAL:autopilot:PreArm: Need 3D Fix\n"
     ]
    },
    {
     "name": "stdout",
     "output_type": "stream",
     "text": [
      "Connected to vehicle on: udp:0.0.0.0:14550\n",
      "starting connection\n",
      "message: GLOBAL_POSITION_INT {time_boot_ms : 58602, lat : 476859276, lon : 86582777, alt : 405680, relative_alt : -4266, vx : 1, vy : 0, vz : 0, hdg : 28856}\n",
      "VehicleMode:LOITER   States.MANUAL   Mission.NONE\n",
      "message: GLOBAL_POSITION_INT {time_boot_ms : 60602, lat : 476859273, lon : 86582784, alt : 404650, relative_alt : -4232, vx : 1, vy : 0, vz : 0, hdg : 28854}\n",
      "VehicleMode:LOITER   States.MANUAL   Mission.NONE\n",
      "message: GLOBAL_POSITION_INT {time_boot_ms : 61602, lat : 476859272, lon : 86582787, alt : 404200, relative_alt : -4244, vx : 2, vy : 1, vz : 0, hdg : 28852}\n",
      "VehicleMode:LOITER   States.MANUAL   Mission.NONE\n",
      "message: GLOBAL_POSITION_INT {time_boot_ms : 67602, lat : 476859241, lon : 86582788, alt : 403190, relative_alt : -4244, vx : 0, vy : 0, vz : 0, hdg : 28846}\n",
      "VehicleMode:LOITER   States.MANUAL   Mission.NONE\n",
      "message: GLOBAL_POSITION_INT {time_boot_ms : 69602, lat : 476859211, lon : 86582799, alt : 402850, relative_alt : -4283, vx : 0, vy : 0, vz : 0, hdg : 28840}\n",
      "VehicleMode:LOITER   States.MANUAL   Mission.NONE\n",
      "message: GLOBAL_POSITION_INT {time_boot_ms : 70603, lat : 476859198, lon : 86582804, alt : 402720, relative_alt : -4244, vx : 0, vy : 0, vz : 0, hdg : 28840}\n",
      "VehicleMode:LOITER   States.MANUAL   Mission.NONE\n",
      "message: GLOBAL_POSITION_INT {time_boot_ms : 72601, lat : 476859191, lon : 86582805, alt : 402610, relative_alt : -4232, vx : 1, vy : 0, vz : 0, hdg : 28842}\n",
      "VehicleMode:LOITER   States.MANUAL   Mission.NONE\n"
     ]
    },
    {
     "name": "stderr",
     "output_type": "stream",
     "text": [
      "WARNING:dronekit:Link timeout, no heartbeat in last 5 seconds\n"
     ]
    },
    {
     "name": "stdout",
     "output_type": "stream",
     "text": [
      "message: GLOBAL_POSITION_INT {time_boot_ms : 76601, lat : 476859164, lon : 86582816, alt : 402510, relative_alt : -22, vx : 5, vy : -1, vz : 0, hdg : 28847}\n",
      "VehicleMode:LOITER   States.MANUAL   Mission.NONE\n"
     ]
    }
   ],
   "source": [
    "import sys\n",
    "sys.path.insert(0, \"../src\")\n",
    "from drone_infrastructure import setup_drone\n",
    "drone = setup_drone(\"SkyViper\",\"BackyardFlyer\")\n",
    "drone.start()"
   ]
  },
  {
   "cell_type": "code",
   "execution_count": null,
   "metadata": {},
   "outputs": [],
   "source": [
    "drone.startArmCheck()"
   ]
  },
  {
   "cell_type": "code",
   "execution_count": null,
   "metadata": {},
   "outputs": [],
   "source": [
    "drone.startTakeoffCheck()"
   ]
  },
  {
   "cell_type": "code",
   "execution_count": 2,
   "metadata": {},
   "outputs": [
    {
     "name": "stdout",
     "output_type": "stream",
     "text": [
      "VehicleMode:LOITER   States.MANUAL   Mission.FLIP\n",
      "message: GLOBAL_POSITION_INT {time_boot_ms : 83601, lat : 476859138, lon : 86582816, alt : 402660, relative_alt : 123, vx : -9, vy : 1, vz : -5, hdg : 28856}\n",
      "VehicleMode:GUIDED   States.MANUAL   Mission.FLIP\n",
      "arming transition\n",
      "message: GLOBAL_POSITION_INT {time_boot_ms : 84601, lat : 476859141, lon : 86582815, alt : 402680, relative_alt : 28, vx : -4, vy : 0, vz : -4, hdg : 28847}\n",
      "VehicleMode:GUIDED   States.ARMING   Mission.FLIP\n",
      "takeoff transition\n",
      "message: GLOBAL_POSITION_INT {time_boot_ms : 86602, lat : 476859142, lon : 86582815, alt : 402640, relative_alt : -18, vx : 0, vy : -2, vz : 0, hdg : 28830}\n",
      "VehicleMode:GUIDED   States.TAKEOFF   Mission.FLIP\n",
      "message: GLOBAL_POSITION_INT {time_boot_ms : 91601, lat : 476859119, lon : 86582783, alt : 403210, relative_alt : 550, vx : 24, vy : 7, vz : 2, hdg : 28848}\n",
      "VehicleMode:GUIDED   States.TAKEOFF   Mission.FLIP\n",
      "flip transition\n",
      "message: GLOBAL_POSITION_INT {time_boot_ms : 93601, lat : 476859135, lon : 86582812, alt : 403140, relative_alt : 482, vx : 16, vy : -10, vz : 0, hdg : 28891}\n",
      "VehicleMode:GUIDED   States.FLIP   Mission.FLIP\n",
      "message: GLOBAL_POSITION_INT {time_boot_ms : 94601, lat : 476859155, lon : 86582790, alt : 403110, relative_alt : 452, vx : 38, vy : -33, vz : -10, hdg : 28829}\n",
      "VehicleMode:ALT_HOLD   States.FLIP   Mission.FLIP\n"
     ]
    },
    {
     "name": "stderr",
     "output_type": "stream",
     "text": [
      "ERROR:dronekit:Exception in message handler for GLOBAL_POSITION_INT\n",
      "Traceback (most recent call last):\n",
      "  File \"/usr/local/lib/python3.8/dist-packages/dronekit/__init__.py\", line 1531, in notify_message_listeners\n",
      "    fn(self, name, msg)\n",
      "  File \"../src/backyard_flyer.py\", line 89, in local_position_callback\n",
      "    self.landing_transistion()\n",
      "AttributeError: 'BackyardFlyer' object has no attribute 'landing_transistion'\n"
     ]
    },
    {
     "name": "stdout",
     "output_type": "stream",
     "text": [
      "message: GLOBAL_POSITION_INT {time_boot_ms : 95601, lat : 476859197, lon : 86582738, alt : 403820, relative_alt : 1169, vx : 59, vy : -75, vz : -164, hdg : 28823}\n",
      "VehicleMode:FLIP   States.FLIP   Mission.NONE\n"
     ]
    },
    {
     "name": "stderr",
     "output_type": "stream",
     "text": [
      "ERROR:dronekit:Exception in message handler for GLOBAL_POSITION_INT\n",
      "Traceback (most recent call last):\n",
      "  File \"/usr/local/lib/python3.8/dist-packages/dronekit/__init__.py\", line 1531, in notify_message_listeners\n",
      "    fn(self, name, msg)\n",
      "  File \"../src/backyard_flyer.py\", line 89, in local_position_callback\n",
      "    self.landing_transistion()\n",
      "AttributeError: 'BackyardFlyer' object has no attribute 'landing_transistion'\n"
     ]
    },
    {
     "name": "stdout",
     "output_type": "stream",
     "text": [
      "message: GLOBAL_POSITION_INT {time_boot_ms : 96601, lat : 476859353, lon : 86582650, alt : 402930, relative_alt : 274, vx : 86, vy : -106, vz : 467, hdg : 27972}\n",
      "VehicleMode:FLIP   States.FLIP   Mission.NONE\n"
     ]
    },
    {
     "name": "stderr",
     "output_type": "stream",
     "text": [
      "CRITICAL:autopilot:GPS Glitch\n",
      "ERROR:dronekit:Exception in message handler for GLOBAL_POSITION_INT\n",
      "Traceback (most recent call last):\n",
      "  File \"/usr/local/lib/python3.8/dist-packages/dronekit/__init__.py\", line 1531, in notify_message_listeners\n",
      "    fn(self, name, msg)\n",
      "  File \"../src/backyard_flyer.py\", line 89, in local_position_callback\n",
      "    self.landing_transistion()\n",
      "AttributeError: 'BackyardFlyer' object has no attribute 'landing_transistion'\n"
     ]
    },
    {
     "name": "stdout",
     "output_type": "stream",
     "text": [
      "message: GLOBAL_POSITION_INT {time_boot_ms : 98601, lat : 476859492, lon : 86582483, alt : 398130, relative_alt : -4528, vx : 93, vy : -142, vz : 159, hdg : 28833}\n",
      "VehicleMode:ALT_HOLD   States.FLIP   Mission.NONE\n"
     ]
    },
    {
     "name": "stderr",
     "output_type": "stream",
     "text": [
      "ERROR:dronekit:Exception in message handler for GLOBAL_POSITION_INT\n",
      "Traceback (most recent call last):\n",
      "  File \"/usr/local/lib/python3.8/dist-packages/dronekit/__init__.py\", line 1531, in notify_message_listeners\n",
      "    fn(self, name, msg)\n",
      "  File \"../src/backyard_flyer.py\", line 89, in local_position_callback\n",
      "    self.landing_transistion()\n",
      "AttributeError: 'BackyardFlyer' object has no attribute 'landing_transistion'\n"
     ]
    },
    {
     "name": "stdout",
     "output_type": "stream",
     "text": [
      "message: GLOBAL_POSITION_INT {time_boot_ms : 99601, lat : 476859555, lon : 86582339, alt : 399850, relative_alt : -2800, vx : 116, vy : -136, vz : 64, hdg : 28819}\n",
      "VehicleMode:ALT_HOLD   States.FLIP   Mission.NONE\n"
     ]
    },
    {
     "name": "stderr",
     "output_type": "stream",
     "text": [
      "ERROR:dronekit:Exception in message handler for GLOBAL_POSITION_INT\n",
      "Traceback (most recent call last):\n",
      "  File \"/usr/local/lib/python3.8/dist-packages/dronekit/__init__.py\", line 1531, in notify_message_listeners\n",
      "    fn(self, name, msg)\n",
      "  File \"../src/backyard_flyer.py\", line 89, in local_position_callback\n",
      "    self.landing_transistion()\n",
      "AttributeError: 'BackyardFlyer' object has no attribute 'landing_transistion'\n"
     ]
    },
    {
     "name": "stdout",
     "output_type": "stream",
     "text": [
      "message: GLOBAL_POSITION_INT {time_boot_ms : 100601, lat : 476859603, lon : 86582202, alt : 402470, relative_alt : -185, vx : 105, vy : -128, vz : 302, hdg : 28829}\n",
      "VehicleMode:ALT_HOLD   States.FLIP   Mission.NONE\n"
     ]
    },
    {
     "name": "stderr",
     "output_type": "stream",
     "text": [
      "ERROR:dronekit:Exception in message handler for GLOBAL_POSITION_INT\n",
      "Traceback (most recent call last):\n",
      "  File \"/usr/local/lib/python3.8/dist-packages/dronekit/__init__.py\", line 1531, in notify_message_listeners\n",
      "    fn(self, name, msg)\n",
      "  File \"../src/backyard_flyer.py\", line 89, in local_position_callback\n",
      "    self.landing_transistion()\n",
      "AttributeError: 'BackyardFlyer' object has no attribute 'landing_transistion'\n"
     ]
    },
    {
     "name": "stdout",
     "output_type": "stream",
     "text": [
      "message: GLOBAL_POSITION_INT {time_boot_ms : 103601, lat : 476859626, lon : 86582190, alt : 400840, relative_alt : -1815, vx : -9, vy : 46, vz : -31, hdg : 25307}\n",
      "VehicleMode:ALT_HOLD   States.FLIP   Mission.NONE\n"
     ]
    },
    {
     "name": "stderr",
     "output_type": "stream",
     "text": [
      "ERROR:dronekit:Exception in message handler for GLOBAL_POSITION_INT\n",
      "Traceback (most recent call last):\n",
      "  File \"/usr/local/lib/python3.8/dist-packages/dronekit/__init__.py\", line 1531, in notify_message_listeners\n",
      "    fn(self, name, msg)\n",
      "  File \"../src/backyard_flyer.py\", line 89, in local_position_callback\n",
      "    self.landing_transistion()\n",
      "AttributeError: 'BackyardFlyer' object has no attribute 'landing_transistion'\n"
     ]
    },
    {
     "name": "stdout",
     "output_type": "stream",
     "text": [
      "message: GLOBAL_POSITION_INT {time_boot_ms : 106601, lat : 476859660, lon : 86582162, alt : 403140, relative_alt : 481, vx : 0, vy : -4, vz : -145, hdg : 25453}\n",
      "VehicleMode:ALT_HOLD   States.FLIP   Mission.NONE\n"
     ]
    },
    {
     "name": "stderr",
     "output_type": "stream",
     "text": [
      "WARNING:dronekit:Link timeout, no heartbeat in last 5 seconds\n",
      "ERROR:dronekit:Exception in message handler for GLOBAL_POSITION_INT\n",
      "Traceback (most recent call last):\n",
      "  File \"/usr/local/lib/python3.8/dist-packages/dronekit/__init__.py\", line 1531, in notify_message_listeners\n",
      "    fn(self, name, msg)\n",
      "  File \"../src/backyard_flyer.py\", line 89, in local_position_callback\n",
      "    self.landing_transistion()\n",
      "AttributeError: 'BackyardFlyer' object has no attribute 'landing_transistion'\n"
     ]
    },
    {
     "name": "stdout",
     "output_type": "stream",
     "text": [
      "message: GLOBAL_POSITION_INT {time_boot_ms : 108601, lat : 476859630, lon : 86582172, alt : 404660, relative_alt : 2005, vx : -11, vy : -6, vz : -185, hdg : 25456}\n",
      "VehicleMode:ALT_HOLD   States.FLIP   Mission.NONE\n"
     ]
    },
    {
     "name": "stderr",
     "output_type": "stream",
     "text": [
      "ERROR:dronekit:Exception in message handler for GLOBAL_POSITION_INT\n",
      "Traceback (most recent call last):\n",
      "  File \"/usr/local/lib/python3.8/dist-packages/dronekit/__init__.py\", line 1531, in notify_message_listeners\n",
      "    fn(self, name, msg)\n",
      "  File \"../src/backyard_flyer.py\", line 89, in local_position_callback\n",
      "    self.landing_transistion()\n",
      "AttributeError: 'BackyardFlyer' object has no attribute 'landing_transistion'\n"
     ]
    },
    {
     "name": "stdout",
     "output_type": "stream",
     "text": [
      "message: GLOBAL_POSITION_INT {time_boot_ms : 109601, lat : 476859620, lon : 86582173, alt : 405200, relative_alt : 2548, vx : -11, vy : -7, vz : -195, hdg : 25462}\n",
      "VehicleMode:ALT_HOLD   States.FLIP   Mission.NONE\n"
     ]
    },
    {
     "name": "stderr",
     "output_type": "stream",
     "text": [
      "ERROR:dronekit:Exception in message handler for GLOBAL_POSITION_INT\n",
      "Traceback (most recent call last):\n",
      "  File \"/usr/local/lib/python3.8/dist-packages/dronekit/__init__.py\", line 1531, in notify_message_listeners\n",
      "    fn(self, name, msg)\n",
      "  File \"../src/backyard_flyer.py\", line 89, in local_position_callback\n",
      "    self.landing_transistion()\n",
      "AttributeError: 'BackyardFlyer' object has no attribute 'landing_transistion'\n"
     ]
    },
    {
     "name": "stdout",
     "output_type": "stream",
     "text": [
      "message: GLOBAL_POSITION_INT {time_boot_ms : 112601, lat : 476859566, lon : 86582176, alt : 406180, relative_alt : 3529, vx : -18, vy : -7, vz : -202, hdg : 25458}\n",
      "VehicleMode:ALT_HOLD   States.FLIP   Mission.NONE\n"
     ]
    },
    {
     "name": "stderr",
     "output_type": "stream",
     "text": [
      "ERROR:dronekit:Exception in message handler for GLOBAL_POSITION_INT\n",
      "Traceback (most recent call last):\n",
      "  File \"/usr/local/lib/python3.8/dist-packages/dronekit/__init__.py\", line 1531, in notify_message_listeners\n",
      "    fn(self, name, msg)\n",
      "  File \"../src/backyard_flyer.py\", line 89, in local_position_callback\n",
      "    self.landing_transistion()\n",
      "AttributeError: 'BackyardFlyer' object has no attribute 'landing_transistion'\n"
     ]
    },
    {
     "name": "stdout",
     "output_type": "stream",
     "text": [
      "message: GLOBAL_POSITION_INT {time_boot_ms : 113601, lat : 476859525, lon : 86582181, alt : 406510, relative_alt : 3856, vx : -29, vy : -5, vz : -206, hdg : 25443}\n",
      "VehicleMode:ALT_HOLD   States.FLIP   Mission.NONE\n"
     ]
    },
    {
     "name": "stderr",
     "output_type": "stream",
     "text": [
      "ERROR:dronekit:Exception in message handler for GLOBAL_POSITION_INT\n",
      "Traceback (most recent call last):\n",
      "  File \"/usr/local/lib/python3.8/dist-packages/dronekit/__init__.py\", line 1531, in notify_message_listeners\n",
      "    fn(self, name, msg)\n",
      "  File \"../src/backyard_flyer.py\", line 89, in local_position_callback\n",
      "    self.landing_transistion()\n",
      "AttributeError: 'BackyardFlyer' object has no attribute 'landing_transistion'\n"
     ]
    },
    {
     "name": "stdout",
     "output_type": "stream",
     "text": [
      "message: GLOBAL_POSITION_INT {time_boot_ms : 115601, lat : 476859524, lon : 86582188, alt : 406580, relative_alt : 3924, vx : -7, vy : -4, vz : -195, hdg : 25467}\n",
      "VehicleMode:ALT_HOLD   States.FLIP   Mission.NONE\n"
     ]
    },
    {
     "name": "stderr",
     "output_type": "stream",
     "text": [
      "ERROR:dronekit:Exception in message handler for GLOBAL_POSITION_INT\n",
      "Traceback (most recent call last):\n",
      "  File \"/usr/local/lib/python3.8/dist-packages/dronekit/__init__.py\", line 1531, in notify_message_listeners\n",
      "    fn(self, name, msg)\n",
      "  File \"../src/backyard_flyer.py\", line 89, in local_position_callback\n",
      "    self.landing_transistion()\n",
      "AttributeError: 'BackyardFlyer' object has no attribute 'landing_transistion'\n"
     ]
    },
    {
     "name": "stdout",
     "output_type": "stream",
     "text": [
      "message: GLOBAL_POSITION_INT {time_boot_ms : 116601, lat : 476859525, lon : 86582185, alt : 406730, relative_alt : 4072, vx : 1, vy : -6, vz : -196, hdg : 25470}\n",
      "VehicleMode:ALT_HOLD   States.FLIP   Mission.NONE\n"
     ]
    },
    {
     "name": "stderr",
     "output_type": "stream",
     "text": [
      "ERROR:dronekit:Exception in message handler for GLOBAL_POSITION_INT\n",
      "Traceback (most recent call last):\n",
      "  File \"/usr/local/lib/python3.8/dist-packages/dronekit/__init__.py\", line 1531, in notify_message_listeners\n",
      "    fn(self, name, msg)\n",
      "  File \"../src/backyard_flyer.py\", line 89, in local_position_callback\n",
      "    self.landing_transistion()\n",
      "AttributeError: 'BackyardFlyer' object has no attribute 'landing_transistion'\n"
     ]
    },
    {
     "name": "stdout",
     "output_type": "stream",
     "text": [
      "message: GLOBAL_POSITION_INT {time_boot_ms : 117601, lat : 476859529, lon : 86582186, alt : 406650, relative_alt : 3993, vx : 9, vy : -6, vz : -190, hdg : 25469}\n",
      "VehicleMode:ALT_HOLD   States.FLIP   Mission.NONE\n"
     ]
    },
    {
     "name": "stderr",
     "output_type": "stream",
     "text": [
      "ERROR:dronekit:Exception in message handler for GLOBAL_POSITION_INT\n",
      "Traceback (most recent call last):\n",
      "  File \"/usr/local/lib/python3.8/dist-packages/dronekit/__init__.py\", line 1531, in notify_message_listeners\n",
      "    fn(self, name, msg)\n",
      "  File \"../src/backyard_flyer.py\", line 89, in local_position_callback\n",
      "    self.landing_transistion()\n",
      "AttributeError: 'BackyardFlyer' object has no attribute 'landing_transistion'\n"
     ]
    },
    {
     "name": "stdout",
     "output_type": "stream",
     "text": [
      "message: GLOBAL_POSITION_INT {time_boot_ms : 121601, lat : 476859504, lon : 86582193, alt : 406190, relative_alt : 3534, vx : 9, vy : -6, vz : -170, hdg : 25417}\n",
      "VehicleMode:ALT_HOLD   States.FLIP   Mission.NONE\n"
     ]
    },
    {
     "name": "stderr",
     "output_type": "stream",
     "text": [
      "ERROR:dronekit:Exception in message handler for GLOBAL_POSITION_INT\n",
      "Traceback (most recent call last):\n",
      "  File \"/usr/local/lib/python3.8/dist-packages/dronekit/__init__.py\", line 1531, in notify_message_listeners\n",
      "    fn(self, name, msg)\n",
      "  File \"../src/backyard_flyer.py\", line 89, in local_position_callback\n",
      "    self.landing_transistion()\n",
      "AttributeError: 'BackyardFlyer' object has no attribute 'landing_transistion'\n"
     ]
    },
    {
     "name": "stdout",
     "output_type": "stream",
     "text": [
      "message: GLOBAL_POSITION_INT {time_boot_ms : 122601, lat : 476859451, lon : 86582176, alt : 406300, relative_alt : 3649, vx : -15, vy : -12, vz : -176, hdg : 25375}\n",
      "VehicleMode:ALT_HOLD   States.FLIP   Mission.NONE\n"
     ]
    },
    {
     "name": "stderr",
     "output_type": "stream",
     "text": [
      "ERROR:dronekit:Exception in message handler for GLOBAL_POSITION_INT\n",
      "Traceback (most recent call last):\n",
      "  File \"/usr/local/lib/python3.8/dist-packages/dronekit/__init__.py\", line 1531, in notify_message_listeners\n",
      "    fn(self, name, msg)\n",
      "  File \"../src/backyard_flyer.py\", line 89, in local_position_callback\n",
      "    self.landing_transistion()\n",
      "AttributeError: 'BackyardFlyer' object has no attribute 'landing_transistion'\n"
     ]
    },
    {
     "name": "stdout",
     "output_type": "stream",
     "text": [
      "message: GLOBAL_POSITION_INT {time_boot_ms : 123601, lat : 476859380, lon : 86582161, alt : 406610, relative_alt : 3958, vx : -41, vy : -15, vz : -186, hdg : 25335}\n",
      "VehicleMode:ALT_HOLD   States.FLIP   Mission.NONE\n"
     ]
    },
    {
     "name": "stderr",
     "output_type": "stream",
     "text": [
      "ERROR:dronekit:Exception in message handler for GLOBAL_POSITION_INT\n",
      "Traceback (most recent call last):\n",
      "  File \"/usr/local/lib/python3.8/dist-packages/dronekit/__init__.py\", line 1531, in notify_message_listeners\n",
      "    fn(self, name, msg)\n",
      "  File \"../src/backyard_flyer.py\", line 89, in local_position_callback\n",
      "    self.landing_transistion()\n",
      "AttributeError: 'BackyardFlyer' object has no attribute 'landing_transistion'\n"
     ]
    },
    {
     "name": "stdout",
     "output_type": "stream",
     "text": [
      "message: GLOBAL_POSITION_INT {time_boot_ms : 124602, lat : 476859353, lon : 86582164, alt : 406760, relative_alt : 4101, vx : -38, vy : -11, vz : -189, hdg : 25333}\n",
      "VehicleMode:ALT_HOLD   States.FLIP   Mission.NONE\n"
     ]
    },
    {
     "name": "stderr",
     "output_type": "stream",
     "text": [
      "ERROR:dronekit:Exception in message handler for GLOBAL_POSITION_INT\n",
      "Traceback (most recent call last):\n",
      "  File \"/usr/local/lib/python3.8/dist-packages/dronekit/__init__.py\", line 1531, in notify_message_listeners\n",
      "    fn(self, name, msg)\n",
      "  File \"../src/backyard_flyer.py\", line 89, in local_position_callback\n",
      "    self.landing_transistion()\n",
      "AttributeError: 'BackyardFlyer' object has no attribute 'landing_transistion'\n"
     ]
    },
    {
     "name": "stdout",
     "output_type": "stream",
     "text": [
      "message: GLOBAL_POSITION_INT {time_boot_ms : 126601, lat : 476859394, lon : 86582186, alt : 406940, relative_alt : 4285, vx : -21, vy : 15, vz : -241, hdg : 21940}\n",
      "VehicleMode:ALT_HOLD   States.FLIP   Mission.NONE\n"
     ]
    },
    {
     "name": "stderr",
     "output_type": "stream",
     "text": [
      "ERROR:dronekit:Exception in message handler for GLOBAL_POSITION_INT\n",
      "Traceback (most recent call last):\n",
      "  File \"/usr/local/lib/python3.8/dist-packages/dronekit/__init__.py\", line 1531, in notify_message_listeners\n",
      "    fn(self, name, msg)\n",
      "  File \"../src/backyard_flyer.py\", line 89, in local_position_callback\n",
      "    self.landing_transistion()\n",
      "AttributeError: 'BackyardFlyer' object has no attribute 'landing_transistion'\n"
     ]
    },
    {
     "name": "stdout",
     "output_type": "stream",
     "text": [
      "message: GLOBAL_POSITION_INT {time_boot_ms : 127601, lat : 476859381, lon : 86582248, alt : 407560, relative_alt : 4907, vx : 2, vy : 126, vz : -244, hdg : 2643}\n",
      "VehicleMode:ALT_HOLD   States.FLIP   Mission.NONE\n"
     ]
    },
    {
     "name": "stderr",
     "output_type": "stream",
     "text": [
      "WARNING:dronekit:Link timeout, no heartbeat in last 5 seconds\n",
      "ERROR:dronekit:Exception in message handler for GLOBAL_POSITION_INT\n",
      "Traceback (most recent call last):\n",
      "  File \"/usr/local/lib/python3.8/dist-packages/dronekit/__init__.py\", line 1531, in notify_message_listeners\n",
      "    fn(self, name, msg)\n",
      "  File \"../src/backyard_flyer.py\", line 89, in local_position_callback\n",
      "    self.landing_transistion()\n",
      "AttributeError: 'BackyardFlyer' object has no attribute 'landing_transistion'\n"
     ]
    },
    {
     "name": "stdout",
     "output_type": "stream",
     "text": [
      "message: GLOBAL_POSITION_INT {time_boot_ms : 134601, lat : 476858892, lon : 86582971, alt : 406730, relative_alt : 4073, vx : -45, vy : 128, vz : -142, hdg : 9364}\n",
      "VehicleMode:ALT_HOLD   States.FLIP   Mission.NONE\n"
     ]
    },
    {
     "name": "stderr",
     "output_type": "stream",
     "text": [
      "ERROR:dronekit:Exception in message handler for GLOBAL_POSITION_INT\n",
      "Traceback (most recent call last):\n",
      "  File \"/usr/local/lib/python3.8/dist-packages/dronekit/__init__.py\", line 1531, in notify_message_listeners\n",
      "    fn(self, name, msg)\n",
      "  File \"../src/backyard_flyer.py\", line 89, in local_position_callback\n",
      "    self.landing_transistion()\n",
      "AttributeError: 'BackyardFlyer' object has no attribute 'landing_transistion'\n"
     ]
    },
    {
     "name": "stdout",
     "output_type": "stream",
     "text": [
      "message: GLOBAL_POSITION_INT {time_boot_ms : 135601, lat : 476858915, lon : 86583085, alt : 406670, relative_alt : 4011, vx : 14, vy : 103, vz : -109, hdg : 6486}\n",
      "VehicleMode:ALT_HOLD   States.FLIP   Mission.NONE\n"
     ]
    },
    {
     "name": "stderr",
     "output_type": "stream",
     "text": [
      "ERROR:dronekit:Exception in message handler for GLOBAL_POSITION_INT\n",
      "Traceback (most recent call last):\n",
      "  File \"/usr/local/lib/python3.8/dist-packages/dronekit/__init__.py\", line 1531, in notify_message_listeners\n",
      "    fn(self, name, msg)\n",
      "  File \"../src/backyard_flyer.py\", line 89, in local_position_callback\n",
      "    self.landing_transistion()\n",
      "AttributeError: 'BackyardFlyer' object has no attribute 'landing_transistion'\n"
     ]
    },
    {
     "name": "stdout",
     "output_type": "stream",
     "text": [
      "message: GLOBAL_POSITION_INT {time_boot_ms : 136601, lat : 476858947, lon : 86583190, alt : 406730, relative_alt : 4078, vx : 117, vy : 84, vz : -102, hdg : 3035}\n",
      "VehicleMode:ALT_HOLD   States.FLIP   Mission.NONE\n"
     ]
    },
    {
     "name": "stderr",
     "output_type": "stream",
     "text": [
      "ERROR:dronekit:Exception in message handler for GLOBAL_POSITION_INT\n",
      "Traceback (most recent call last):\n",
      "  File \"/usr/local/lib/python3.8/dist-packages/dronekit/__init__.py\", line 1531, in notify_message_listeners\n",
      "    fn(self, name, msg)\n",
      "  File \"../src/backyard_flyer.py\", line 89, in local_position_callback\n",
      "    self.landing_transistion()\n",
      "AttributeError: 'BackyardFlyer' object has no attribute 'landing_transistion'\n"
     ]
    },
    {
     "name": "stdout",
     "output_type": "stream",
     "text": [
      "message: GLOBAL_POSITION_INT {time_boot_ms : 137601, lat : 476859010, lon : 86583270, alt : 406730, relative_alt : 4071, vx : 133, vy : 43, vz : -99, hdg : 1319}\n",
      "VehicleMode:ALT_HOLD   States.FLIP   Mission.NONE\n"
     ]
    },
    {
     "name": "stderr",
     "output_type": "stream",
     "text": [
      "ERROR:dronekit:Exception in message handler for GLOBAL_POSITION_INT\n",
      "Traceback (most recent call last):\n",
      "  File \"/usr/local/lib/python3.8/dist-packages/dronekit/__init__.py\", line 1531, in notify_message_listeners\n",
      "    fn(self, name, msg)\n",
      "  File \"../src/backyard_flyer.py\", line 89, in local_position_callback\n",
      "    self.landing_transistion()\n",
      "AttributeError: 'BackyardFlyer' object has no attribute 'landing_transistion'\n"
     ]
    },
    {
     "name": "stdout",
     "output_type": "stream",
     "text": [
      "message: GLOBAL_POSITION_INT {time_boot_ms : 138602, lat : 476859049, lon : 86583272, alt : 406430, relative_alt : 3777, vx : 182, vy : -24, vz : -60, hdg : 698}\n",
      "VehicleMode:ALT_HOLD   States.FLIP   Mission.NONE\n"
     ]
    },
    {
     "name": "stderr",
     "output_type": "stream",
     "text": [
      "ERROR:dronekit:Exception in message handler for GLOBAL_POSITION_INT\n",
      "Traceback (most recent call last):\n",
      "  File \"/usr/local/lib/python3.8/dist-packages/dronekit/__init__.py\", line 1531, in notify_message_listeners\n",
      "    fn(self, name, msg)\n",
      "  File \"../src/backyard_flyer.py\", line 89, in local_position_callback\n",
      "    self.landing_transistion()\n",
      "AttributeError: 'BackyardFlyer' object has no attribute 'landing_transistion'\n"
     ]
    },
    {
     "name": "stdout",
     "output_type": "stream",
     "text": [
      "message: GLOBAL_POSITION_INT {time_boot_ms : 139601, lat : 476859084, lon : 86583212, alt : 406050, relative_alt : 3395, vx : 206, vy : -93, vz : -13, hdg : 35172}\n",
      "VehicleMode:ALT_HOLD   States.FLIP   Mission.NONE\n"
     ]
    },
    {
     "name": "stderr",
     "output_type": "stream",
     "text": [
      "ERROR:dronekit:Exception in message handler for GLOBAL_POSITION_INT\n",
      "Traceback (most recent call last):\n",
      "  File \"/usr/local/lib/python3.8/dist-packages/dronekit/__init__.py\", line 1531, in notify_message_listeners\n",
      "    fn(self, name, msg)\n",
      "  File \"../src/backyard_flyer.py\", line 89, in local_position_callback\n",
      "    self.landing_transistion()\n",
      "AttributeError: 'BackyardFlyer' object has no attribute 'landing_transistion'\n"
     ]
    },
    {
     "name": "stdout",
     "output_type": "stream",
     "text": [
      "message: GLOBAL_POSITION_INT {time_boot_ms : 140601, lat : 476859089, lon : 86583109, alt : 405520, relative_alt : 2865, vx : 210, vy : -87, vz : -48, hdg : 34101}\n",
      "VehicleMode:ALT_HOLD   States.FLIP   Mission.NONE\n"
     ]
    },
    {
     "name": "stderr",
     "output_type": "stream",
     "text": [
      "ERROR:dronekit:Exception in message handler for GLOBAL_POSITION_INT\n",
      "Traceback (most recent call last):\n",
      "  File \"/usr/local/lib/python3.8/dist-packages/dronekit/__init__.py\", line 1531, in notify_message_listeners\n",
      "    fn(self, name, msg)\n",
      "  File \"../src/backyard_flyer.py\", line 89, in local_position_callback\n",
      "    self.landing_transistion()\n",
      "AttributeError: 'BackyardFlyer' object has no attribute 'landing_transistion'\n"
     ]
    },
    {
     "name": "stdout",
     "output_type": "stream",
     "text": [
      "message: GLOBAL_POSITION_INT {time_boot_ms : 141601, lat : 476859136, lon : 86583033, alt : 405200, relative_alt : 2545, vx : 202, vy : -117, vz : -38, hdg : 35402}\n",
      "VehicleMode:ALT_HOLD   States.FLIP   Mission.NONE\n"
     ]
    },
    {
     "name": "stderr",
     "output_type": "stream",
     "text": [
      "ERROR:dronekit:Exception in message handler for GLOBAL_POSITION_INT\n",
      "Traceback (most recent call last):\n",
      "  File \"/usr/local/lib/python3.8/dist-packages/dronekit/__init__.py\", line 1531, in notify_message_listeners\n",
      "    fn(self, name, msg)\n",
      "  File \"../src/backyard_flyer.py\", line 89, in local_position_callback\n",
      "    self.landing_transistion()\n",
      "AttributeError: 'BackyardFlyer' object has no attribute 'landing_transistion'\n"
     ]
    },
    {
     "name": "stdout",
     "output_type": "stream",
     "text": [
      "message: GLOBAL_POSITION_INT {time_boot_ms : 142601, lat : 476859153, lon : 86583031, alt : 404910, relative_alt : 2255, vx : 160, vy : -103, vz : -21, hdg : 35717}\n",
      "VehicleMode:ALT_HOLD   States.FLIP   Mission.NONE\n"
     ]
    },
    {
     "name": "stderr",
     "output_type": "stream",
     "text": [
      "ERROR:dronekit:Exception in message handler for GLOBAL_POSITION_INT\n",
      "Traceback (most recent call last):\n",
      "  File \"/usr/local/lib/python3.8/dist-packages/dronekit/__init__.py\", line 1531, in notify_message_listeners\n",
      "    fn(self, name, msg)\n",
      "  File \"../src/backyard_flyer.py\", line 89, in local_position_callback\n",
      "    self.landing_transistion()\n",
      "AttributeError: 'BackyardFlyer' object has no attribute 'landing_transistion'\n"
     ]
    },
    {
     "name": "stdout",
     "output_type": "stream",
     "text": [
      "message: GLOBAL_POSITION_INT {time_boot_ms : 143601, lat : 476859127, lon : 86583059, alt : 404680, relative_alt : 2029, vx : 120, vy : -71, vz : -9, hdg : 35412}\n",
      "VehicleMode:ALT_HOLD   States.FLIP   Mission.NONE\n"
     ]
    },
    {
     "name": "stderr",
     "output_type": "stream",
     "text": [
      "ERROR:dronekit:Exception in message handler for GLOBAL_POSITION_INT\n",
      "Traceback (most recent call last):\n",
      "  File \"/usr/local/lib/python3.8/dist-packages/dronekit/__init__.py\", line 1531, in notify_message_listeners\n",
      "    fn(self, name, msg)\n",
      "  File \"../src/backyard_flyer.py\", line 89, in local_position_callback\n",
      "    self.landing_transistion()\n",
      "AttributeError: 'BackyardFlyer' object has no attribute 'landing_transistion'\n"
     ]
    },
    {
     "name": "stdout",
     "output_type": "stream",
     "text": [
      "message: GLOBAL_POSITION_INT {time_boot_ms : 144601, lat : 476859094, lon : 86583092, alt : 404500, relative_alt : 1840, vx : 75, vy : -59, vz : -15, hdg : 34497}\n",
      "VehicleMode:ALT_HOLD   States.FLIP   Mission.NONE\n"
     ]
    },
    {
     "name": "stderr",
     "output_type": "stream",
     "text": [
      "ERROR:dronekit:Exception in message handler for GLOBAL_POSITION_INT\n",
      "Traceback (most recent call last):\n",
      "  File \"/usr/local/lib/python3.8/dist-packages/dronekit/__init__.py\", line 1531, in notify_message_listeners\n",
      "    fn(self, name, msg)\n",
      "  File \"../src/backyard_flyer.py\", line 89, in local_position_callback\n",
      "    self.landing_transistion()\n",
      "AttributeError: 'BackyardFlyer' object has no attribute 'landing_transistion'\n"
     ]
    },
    {
     "name": "stdout",
     "output_type": "stream",
     "text": [
      "message: GLOBAL_POSITION_INT {time_boot_ms : 146601, lat : 476858991, lon : 86583044, alt : 404050, relative_alt : 1397, vx : -54, vy : -91, vz : 8, hdg : 28625}\n",
      "VehicleMode:ALT_HOLD   States.FLIP   Mission.NONE\n"
     ]
    },
    {
     "name": "stderr",
     "output_type": "stream",
     "text": [
      "ERROR:dronekit:Exception in message handler for GLOBAL_POSITION_INT\n",
      "Traceback (most recent call last):\n",
      "  File \"/usr/local/lib/python3.8/dist-packages/dronekit/__init__.py\", line 1531, in notify_message_listeners\n",
      "    fn(self, name, msg)\n",
      "  File \"../src/backyard_flyer.py\", line 89, in local_position_callback\n",
      "    self.landing_transistion()\n",
      "AttributeError: 'BackyardFlyer' object has no attribute 'landing_transistion'\n"
     ]
    },
    {
     "name": "stdout",
     "output_type": "stream",
     "text": [
      "message: GLOBAL_POSITION_INT {time_boot_ms : 148601, lat : 476858872, lon : 86582973, alt : 403630, relative_alt : 979, vx : -138, vy : -93, vz : 31, hdg : 29111}\n",
      "VehicleMode:ALT_HOLD   States.FLIP   Mission.NONE\n"
     ]
    },
    {
     "name": "stderr",
     "output_type": "stream",
     "text": [
      "ERROR:dronekit:Exception in message handler for GLOBAL_POSITION_INT\n",
      "Traceback (most recent call last):\n",
      "  File \"/usr/local/lib/python3.8/dist-packages/dronekit/__init__.py\", line 1531, in notify_message_listeners\n",
      "    fn(self, name, msg)\n",
      "  File \"../src/backyard_flyer.py\", line 89, in local_position_callback\n",
      "    self.landing_transistion()\n",
      "AttributeError: 'BackyardFlyer' object has no attribute 'landing_transistion'\n"
     ]
    },
    {
     "name": "stdout",
     "output_type": "stream",
     "text": [
      "message: GLOBAL_POSITION_INT {time_boot_ms : 149603, lat : 476858878, lon : 86583029, alt : 403520, relative_alt : 868, vx : -119, vy : -69, vz : 25, hdg : 32211}\n",
      "VehicleMode:ALT_HOLD   States.FLIP   Mission.NONE\n"
     ]
    },
    {
     "name": "stderr",
     "output_type": "stream",
     "text": [
      "ERROR:dronekit:Exception in message handler for GLOBAL_POSITION_INT\n",
      "Traceback (most recent call last):\n",
      "  File \"/usr/local/lib/python3.8/dist-packages/dronekit/__init__.py\", line 1531, in notify_message_listeners\n",
      "    fn(self, name, msg)\n",
      "  File \"../src/backyard_flyer.py\", line 89, in local_position_callback\n",
      "    self.landing_transistion()\n",
      "AttributeError: 'BackyardFlyer' object has no attribute 'landing_transistion'\n"
     ]
    },
    {
     "name": "stdout",
     "output_type": "stream",
     "text": [
      "message: GLOBAL_POSITION_INT {time_boot_ms : 151601, lat : 476858944, lon : 86583177, alt : 403180, relative_alt : 527, vx : -37, vy : -40, vz : 16, hdg : 31733}\n",
      "VehicleMode:ALT_HOLD   States.FLIP   Mission.NONE\n"
     ]
    },
    {
     "name": "stderr",
     "output_type": "stream",
     "text": [
      "ERROR:dronekit:Exception in message handler for GLOBAL_POSITION_INT\n",
      "Traceback (most recent call last):\n",
      "  File \"/usr/local/lib/python3.8/dist-packages/dronekit/__init__.py\", line 1531, in notify_message_listeners\n",
      "    fn(self, name, msg)\n",
      "  File \"../src/backyard_flyer.py\", line 89, in local_position_callback\n",
      "    self.landing_transistion()\n",
      "AttributeError: 'BackyardFlyer' object has no attribute 'landing_transistion'\n"
     ]
    },
    {
     "name": "stdout",
     "output_type": "stream",
     "text": [
      "message: GLOBAL_POSITION_INT {time_boot_ms : 152602, lat : 476858984, lon : 86583269, alt : 403040, relative_alt : 381, vx : -26, vy : 10, vz : 29, hdg : 31293}\n",
      "VehicleMode:ALT_HOLD   States.FLIP   Mission.NONE\n"
     ]
    },
    {
     "name": "stderr",
     "output_type": "stream",
     "text": [
      "ERROR:dronekit:Exception in message handler for GLOBAL_POSITION_INT\n",
      "Traceback (most recent call last):\n",
      "  File \"/usr/local/lib/python3.8/dist-packages/dronekit/__init__.py\", line 1531, in notify_message_listeners\n",
      "    fn(self, name, msg)\n",
      "  File \"../src/backyard_flyer.py\", line 89, in local_position_callback\n",
      "    self.landing_transistion()\n",
      "AttributeError: 'BackyardFlyer' object has no attribute 'landing_transistion'\n"
     ]
    },
    {
     "name": "stdout",
     "output_type": "stream",
     "text": [
      "message: GLOBAL_POSITION_INT {time_boot_ms : 153601, lat : 476858985, lon : 86583245, alt : 402710, relative_alt : 53, vx : -9, vy : -33, vz : 83, hdg : 29980}\n",
      "VehicleMode:ALT_HOLD   States.FLIP   Mission.NONE\n"
     ]
    },
    {
     "name": "stderr",
     "output_type": "stream",
     "text": [
      "ERROR:dronekit:Exception in message handler for GLOBAL_POSITION_INT\n",
      "Traceback (most recent call last):\n",
      "  File \"/usr/local/lib/python3.8/dist-packages/dronekit/__init__.py\", line 1531, in notify_message_listeners\n",
      "    fn(self, name, msg)\n",
      "  File \"../src/backyard_flyer.py\", line 89, in local_position_callback\n",
      "    self.landing_transistion()\n",
      "AttributeError: 'BackyardFlyer' object has no attribute 'landing_transistion'\n"
     ]
    },
    {
     "name": "stdout",
     "output_type": "stream",
     "text": [
      "message: GLOBAL_POSITION_INT {time_boot_ms : 155601, lat : 476858928, lon : 86583264, alt : 402440, relative_alt : -215, vx : -33, vy : 4, vz : 15, hdg : 27568}\n",
      "VehicleMode:ALT_HOLD   States.FLIP   Mission.NONE\n"
     ]
    },
    {
     "name": "stderr",
     "output_type": "stream",
     "text": [
      "ERROR:dronekit:Exception in message handler for GLOBAL_POSITION_INT\n",
      "Traceback (most recent call last):\n",
      "  File \"/usr/local/lib/python3.8/dist-packages/dronekit/__init__.py\", line 1531, in notify_message_listeners\n",
      "    fn(self, name, msg)\n",
      "  File \"../src/backyard_flyer.py\", line 89, in local_position_callback\n",
      "    self.landing_transistion()\n",
      "AttributeError: 'BackyardFlyer' object has no attribute 'landing_transistion'\n"
     ]
    },
    {
     "name": "stdout",
     "output_type": "stream",
     "text": [
      "message: GLOBAL_POSITION_INT {time_boot_ms : 156602, lat : 476858941, lon : 86583271, alt : 402500, relative_alt : -156, vx : -40, vy : 15, vz : -4, hdg : 27386}\n",
      "VehicleMode:ALT_HOLD   States.FLIP   Mission.NONE\n"
     ]
    },
    {
     "name": "stderr",
     "output_type": "stream",
     "text": [
      "ERROR:dronekit:Exception in message handler for GLOBAL_POSITION_INT\n",
      "Traceback (most recent call last):\n",
      "  File \"/usr/local/lib/python3.8/dist-packages/dronekit/__init__.py\", line 1531, in notify_message_listeners\n",
      "    fn(self, name, msg)\n",
      "  File \"../src/backyard_flyer.py\", line 89, in local_position_callback\n",
      "    self.landing_transistion()\n",
      "AttributeError: 'BackyardFlyer' object has no attribute 'landing_transistion'\n"
     ]
    },
    {
     "name": "stdout",
     "output_type": "stream",
     "text": [
      "message: GLOBAL_POSITION_INT {time_boot_ms : 157602, lat : 476858942, lon : 86583282, alt : 402640, relative_alt : -16, vx : -45, vy : 13, vz : -16, hdg : 27407}\n",
      "VehicleMode:ALT_HOLD   States.FLIP   Mission.NONE\n"
     ]
    },
    {
     "name": "stderr",
     "output_type": "stream",
     "text": [
      "ERROR:dronekit:Exception in message handler for GLOBAL_POSITION_INT\n",
      "Traceback (most recent call last):\n",
      "  File \"/usr/local/lib/python3.8/dist-packages/dronekit/__init__.py\", line 1531, in notify_message_listeners\n",
      "    fn(self, name, msg)\n",
      "  File \"../src/backyard_flyer.py\", line 89, in local_position_callback\n",
      "    self.landing_transistion()\n",
      "AttributeError: 'BackyardFlyer' object has no attribute 'landing_transistion'\n"
     ]
    },
    {
     "name": "stdout",
     "output_type": "stream",
     "text": [
      "message: GLOBAL_POSITION_INT {time_boot_ms : 158601, lat : 476858957, lon : 86583278, alt : 402810, relative_alt : 158, vx : -34, vy : 8, vz : -26, hdg : 27434}\n",
      "VehicleMode:ALT_HOLD   States.FLIP   Mission.NONE\n"
     ]
    },
    {
     "name": "stderr",
     "output_type": "stream",
     "text": [
      "ERROR:dronekit:Exception in message handler for GLOBAL_POSITION_INT\n",
      "Traceback (most recent call last):\n",
      "  File \"/usr/local/lib/python3.8/dist-packages/dronekit/__init__.py\", line 1531, in notify_message_listeners\n",
      "    fn(self, name, msg)\n",
      "  File \"../src/backyard_flyer.py\", line 89, in local_position_callback\n",
      "    self.landing_transistion()\n",
      "AttributeError: 'BackyardFlyer' object has no attribute 'landing_transistion'\n"
     ]
    },
    {
     "name": "stdout",
     "output_type": "stream",
     "text": [
      "message: GLOBAL_POSITION_INT {time_boot_ms : 160602, lat : 476858993, lon : 86583276, alt : 403100, relative_alt : 441, vx : -8, vy : 0, vz : -38, hdg : 27487}\n",
      "VehicleMode:ALT_HOLD   States.FLIP   Mission.NONE\n"
     ]
    },
    {
     "name": "stderr",
     "output_type": "stream",
     "text": [
      "ERROR:dronekit:Exception in message handler for GLOBAL_POSITION_INT\n",
      "Traceback (most recent call last):\n",
      "  File \"/usr/local/lib/python3.8/dist-packages/dronekit/__init__.py\", line 1531, in notify_message_listeners\n",
      "    fn(self, name, msg)\n",
      "  File \"../src/backyard_flyer.py\", line 89, in local_position_callback\n",
      "    self.landing_transistion()\n",
      "AttributeError: 'BackyardFlyer' object has no attribute 'landing_transistion'\n"
     ]
    },
    {
     "name": "stdout",
     "output_type": "stream",
     "text": [
      "message: GLOBAL_POSITION_INT {time_boot_ms : 161602, lat : 476859007, lon : 86583279, alt : 403250, relative_alt : 599, vx : 0, vy : 0, vz : -42, hdg : 27509}\n",
      "VehicleMode:ALT_HOLD   States.FLIP   Mission.NONE\n"
     ]
    },
    {
     "name": "stderr",
     "output_type": "stream",
     "text": [
      "ERROR:dronekit:Exception in message handler for GLOBAL_POSITION_INT\n",
      "Traceback (most recent call last):\n",
      "  File \"/usr/local/lib/python3.8/dist-packages/dronekit/__init__.py\", line 1531, in notify_message_listeners\n",
      "    fn(self, name, msg)\n",
      "  File \"../src/backyard_flyer.py\", line 89, in local_position_callback\n",
      "    self.landing_transistion()\n",
      "AttributeError: 'BackyardFlyer' object has no attribute 'landing_transistion'\n"
     ]
    },
    {
     "name": "stdout",
     "output_type": "stream",
     "text": [
      "message: GLOBAL_POSITION_INT {time_boot_ms : 162602, lat : 476859017, lon : 86583276, alt : 403430, relative_alt : 774, vx : 3, vy : 0, vz : -47, hdg : 27528}\n",
      "VehicleMode:ALT_HOLD   States.FLIP   Mission.NONE\n"
     ]
    },
    {
     "name": "stderr",
     "output_type": "stream",
     "text": [
      "ERROR:dronekit:Exception in message handler for GLOBAL_POSITION_INT\n",
      "Traceback (most recent call last):\n",
      "  File \"/usr/local/lib/python3.8/dist-packages/dronekit/__init__.py\", line 1531, in notify_message_listeners\n",
      "    fn(self, name, msg)\n",
      "  File \"../src/backyard_flyer.py\", line 89, in local_position_callback\n",
      "    self.landing_transistion()\n",
      "AttributeError: 'BackyardFlyer' object has no attribute 'landing_transistion'\n"
     ]
    },
    {
     "name": "stdout",
     "output_type": "stream",
     "text": [
      "message: GLOBAL_POSITION_INT {time_boot_ms : 163601, lat : 476859027, lon : 86583269, alt : 403570, relative_alt : 910, vx : 7, vy : 0, vz : -48, hdg : 27549}\n",
      "VehicleMode:ALT_HOLD   States.FLIP   Mission.NONE\n"
     ]
    },
    {
     "name": "stderr",
     "output_type": "stream",
     "text": [
      "ERROR:dronekit:Exception in message handler for GLOBAL_POSITION_INT\n",
      "Traceback (most recent call last):\n",
      "  File \"/usr/local/lib/python3.8/dist-packages/dronekit/__init__.py\", line 1531, in notify_message_listeners\n",
      "    fn(self, name, msg)\n",
      "  File \"../src/backyard_flyer.py\", line 89, in local_position_callback\n",
      "    self.landing_transistion()\n",
      "AttributeError: 'BackyardFlyer' object has no attribute 'landing_transistion'\n"
     ]
    },
    {
     "name": "stdout",
     "output_type": "stream",
     "text": [
      "message: GLOBAL_POSITION_INT {time_boot_ms : 165602, lat : 476859040, lon : 86583256, alt : 403610, relative_alt : 950, vx : 14, vy : 3, vz : -44, hdg : 27589}\n",
      "VehicleMode:ALT_HOLD   States.FLIP   Mission.NONE\n"
     ]
    },
    {
     "name": "stderr",
     "output_type": "stream",
     "text": [
      "ERROR:dronekit:Exception in message handler for GLOBAL_POSITION_INT\n",
      "Traceback (most recent call last):\n",
      "  File \"/usr/local/lib/python3.8/dist-packages/dronekit/__init__.py\", line 1531, in notify_message_listeners\n",
      "    fn(self, name, msg)\n",
      "  File \"../src/backyard_flyer.py\", line 89, in local_position_callback\n",
      "    self.landing_transistion()\n",
      "AttributeError: 'BackyardFlyer' object has no attribute 'landing_transistion'\n"
     ]
    },
    {
     "name": "stdout",
     "output_type": "stream",
     "text": [
      "message: GLOBAL_POSITION_INT {time_boot_ms : 166602, lat : 476859045, lon : 86583250, alt : 403590, relative_alt : 939, vx : 16, vy : 3, vz : -42, hdg : 27609}\n",
      "VehicleMode:ALT_HOLD   States.FLIP   Mission.NONE\n"
     ]
    },
    {
     "name": "stderr",
     "output_type": "stream",
     "text": [
      "ERROR:dronekit:Exception in message handler for GLOBAL_POSITION_INT\n",
      "Traceback (most recent call last):\n",
      "  File \"/usr/local/lib/python3.8/dist-packages/dronekit/__init__.py\", line 1531, in notify_message_listeners\n",
      "    fn(self, name, msg)\n",
      "  File \"../src/backyard_flyer.py\", line 89, in local_position_callback\n",
      "    self.landing_transistion()\n",
      "AttributeError: 'BackyardFlyer' object has no attribute 'landing_transistion'\n"
     ]
    },
    {
     "name": "stdout",
     "output_type": "stream",
     "text": [
      "message: GLOBAL_POSITION_INT {time_boot_ms : 168602, lat : 476859054, lon : 86583242, alt : 403570, relative_alt : 919, vx : 17, vy : 5, vz : -39, hdg : 27651}\n",
      "VehicleMode:ALT_HOLD   States.FLIP   Mission.NONE\n"
     ]
    },
    {
     "name": "stderr",
     "output_type": "stream",
     "text": [
      "ERROR:dronekit:Exception in message handler for GLOBAL_POSITION_INT\n",
      "Traceback (most recent call last):\n",
      "  File \"/usr/local/lib/python3.8/dist-packages/dronekit/__init__.py\", line 1531, in notify_message_listeners\n",
      "    fn(self, name, msg)\n",
      "  File \"../src/backyard_flyer.py\", line 89, in local_position_callback\n",
      "    self.landing_transistion()\n",
      "AttributeError: 'BackyardFlyer' object has no attribute 'landing_transistion'\n"
     ]
    },
    {
     "name": "stdout",
     "output_type": "stream",
     "text": [
      "message: GLOBAL_POSITION_INT {time_boot_ms : 170602, lat : 476859062, lon : 86583236, alt : 403480, relative_alt : 820, vx : 15, vy : 5, vz : -35, hdg : 27694}\n",
      "VehicleMode:ALT_HOLD   States.FLIP   Mission.NONE\n"
     ]
    },
    {
     "name": "stderr",
     "output_type": "stream",
     "text": [
      "ERROR:dronekit:Exception in message handler for GLOBAL_POSITION_INT\n",
      "Traceback (most recent call last):\n",
      "  File \"/usr/local/lib/python3.8/dist-packages/dronekit/__init__.py\", line 1531, in notify_message_listeners\n",
      "    fn(self, name, msg)\n",
      "  File \"../src/backyard_flyer.py\", line 89, in local_position_callback\n",
      "    self.landing_transistion()\n",
      "AttributeError: 'BackyardFlyer' object has no attribute 'landing_transistion'\n"
     ]
    },
    {
     "name": "stdout",
     "output_type": "stream",
     "text": [
      "message: GLOBAL_POSITION_INT {time_boot_ms : 176602, lat : 476859086, lon : 86583266, alt : 403430, relative_alt : 777, vx : 14, vy : 7, vz : -33, hdg : 27830}\n",
      "VehicleMode:ALT_HOLD   States.FLIP   Mission.NONE\n"
     ]
    },
    {
     "name": "stderr",
     "output_type": "stream",
     "text": [
      "ERROR:dronekit:Exception in message handler for GLOBAL_POSITION_INT\n",
      "Traceback (most recent call last):\n",
      "  File \"/usr/local/lib/python3.8/dist-packages/dronekit/__init__.py\", line 1531, in notify_message_listeners\n",
      "    fn(self, name, msg)\n",
      "  File \"../src/backyard_flyer.py\", line 89, in local_position_callback\n",
      "    self.landing_transistion()\n",
      "AttributeError: 'BackyardFlyer' object has no attribute 'landing_transistion'\n"
     ]
    },
    {
     "name": "stdout",
     "output_type": "stream",
     "text": [
      "message: GLOBAL_POSITION_INT {time_boot_ms : 179602, lat : 476859107, lon : 86583304, alt : 403330, relative_alt : 679, vx : 16, vy : 8, vz : -31, hdg : 27899}\n",
      "VehicleMode:ALT_HOLD   States.FLIP   Mission.NONE\n"
     ]
    },
    {
     "name": "stderr",
     "output_type": "stream",
     "text": [
      "ERROR:dronekit:Exception in message handler for GLOBAL_POSITION_INT\n",
      "Traceback (most recent call last):\n",
      "  File \"/usr/local/lib/python3.8/dist-packages/dronekit/__init__.py\", line 1531, in notify_message_listeners\n",
      "    fn(self, name, msg)\n",
      "  File \"../src/backyard_flyer.py\", line 89, in local_position_callback\n",
      "    self.landing_transistion()\n",
      "AttributeError: 'BackyardFlyer' object has no attribute 'landing_transistion'\n"
     ]
    },
    {
     "name": "stdout",
     "output_type": "stream",
     "text": [
      "message: GLOBAL_POSITION_INT {time_boot_ms : 183602, lat : 476859127, lon : 86583356, alt : 403560, relative_alt : 902, vx : 12, vy : 5, vz : -38, hdg : 27992}\n",
      "VehicleMode:ALT_HOLD   States.FLIP   Mission.NONE\n"
     ]
    },
    {
     "name": "stderr",
     "output_type": "stream",
     "text": [
      "ERROR:dronekit:Exception in message handler for GLOBAL_POSITION_INT\n",
      "Traceback (most recent call last):\n",
      "  File \"/usr/local/lib/python3.8/dist-packages/dronekit/__init__.py\", line 1531, in notify_message_listeners\n",
      "    fn(self, name, msg)\n",
      "  File \"../src/backyard_flyer.py\", line 89, in local_position_callback\n",
      "    self.landing_transistion()\n",
      "AttributeError: 'BackyardFlyer' object has no attribute 'landing_transistion'\n",
      "ERROR:dronekit:Exception in message handler for GLOBAL_POSITION_INT\n",
      "Traceback (most recent call last):\n",
      "  File \"/usr/local/lib/python3.8/dist-packages/dronekit/__init__.py\", line 1531, in notify_message_listeners\n",
      "    fn(self, name, msg)\n",
      "  File \"../src/backyard_flyer.py\", line 89, in local_position_callback\n",
      "    self.landing_transistion()\n",
      "AttributeError: 'BackyardFlyer' object has no attribute 'landing_transistion'\n",
      "ERROR:dronekit:Exception in message handler for GLOBAL_POSITION_INT\n",
      "Traceback (most recent call last):\n",
      "  File \"/usr/local/lib/python3.8/dist-packages/dronekit/__init__.py\", line 1531, in notify_message_listeners\n",
      "    fn(self, name, msg)\n",
      "  File \"../src/backyard_flyer.py\", line 89, in local_position_callback\n",
      "    self.landing_transistion()\n",
      "AttributeError: 'BackyardFlyer' object has no attribute 'landing_transistion'\n"
     ]
    },
    {
     "name": "stdout",
     "output_type": "stream",
     "text": [
      "message: GLOBAL_POSITION_INT {time_boot_ms : 184509, lat : 476859133, lon : 86583368, alt : 403540, relative_alt : 889, vx : 12, vy : 5, vz : -37, hdg : 28012}\n",
      "VehicleMode:ALT_HOLD   States.FLIP   Mission.NONE\n",
      "message: GLOBAL_POSITION_INT {time_boot_ms : 184526, lat : 476859133, lon : 86583368, alt : 403550, relative_alt : 891, vx : 12, vy : 5, vz : -37, hdg : 28013}\n",
      "VehicleMode:ALT_HOLD   States.FLIP   Mission.NONE\n",
      "message: GLOBAL_POSITION_INT {time_boot_ms : 184601, lat : 476859134, lon : 86583369, alt : 403540, relative_alt : 885, vx : 12, vy : 5, vz : -36, hdg : 28014}\n",
      "VehicleMode:ALT_HOLD   States.FLIP   Mission.NONE\n"
     ]
    },
    {
     "name": "stderr",
     "output_type": "stream",
     "text": [
      "ERROR:dronekit:Exception in message handler for GLOBAL_POSITION_INT\n",
      "Traceback (most recent call last):\n",
      "  File \"/usr/local/lib/python3.8/dist-packages/dronekit/__init__.py\", line 1531, in notify_message_listeners\n",
      "    fn(self, name, msg)\n",
      "  File \"../src/backyard_flyer.py\", line 89, in local_position_callback\n",
      "    self.landing_transistion()\n",
      "AttributeError: 'BackyardFlyer' object has no attribute 'landing_transistion'\n"
     ]
    },
    {
     "name": "stdout",
     "output_type": "stream",
     "text": [
      "message: GLOBAL_POSITION_INT {time_boot_ms : 184851, lat : 476859135, lon : 86583371, alt : 403530, relative_alt : 871, vx : 11, vy : 5, vz : -36, hdg : 28020}\n",
      "VehicleMode:ALT_HOLD   States.FLIP   Mission.NONE\n"
     ]
    },
    {
     "name": "stderr",
     "output_type": "stream",
     "text": [
      "ERROR:dronekit:Exception in message handler for GLOBAL_POSITION_INT\n",
      "Traceback (most recent call last):\n",
      "  File \"/usr/local/lib/python3.8/dist-packages/dronekit/__init__.py\", line 1531, in notify_message_listeners\n",
      "    fn(self, name, msg)\n",
      "  File \"../src/backyard_flyer.py\", line 89, in local_position_callback\n",
      "    self.landing_transistion()\n",
      "AttributeError: 'BackyardFlyer' object has no attribute 'landing_transistion'\n"
     ]
    },
    {
     "name": "stdout",
     "output_type": "stream",
     "text": [
      "message: GLOBAL_POSITION_INT {time_boot_ms : 185101, lat : 476859136, lon : 86583374, alt : 403510, relative_alt : 857, vx : 11, vy : 4, vz : -35, hdg : 28026}\n",
      "VehicleMode:ALT_HOLD   States.FLIP   Mission.NONE\n"
     ]
    },
    {
     "name": "stderr",
     "output_type": "stream",
     "text": [
      "ERROR:dronekit:Exception in message handler for GLOBAL_POSITION_INT\n",
      "Traceback (most recent call last):\n",
      "  File \"/usr/local/lib/python3.8/dist-packages/dronekit/__init__.py\", line 1531, in notify_message_listeners\n",
      "    fn(self, name, msg)\n",
      "  File \"../src/backyard_flyer.py\", line 89, in local_position_callback\n",
      "    self.landing_transistion()\n",
      "AttributeError: 'BackyardFlyer' object has no attribute 'landing_transistion'\n"
     ]
    },
    {
     "name": "stdout",
     "output_type": "stream",
     "text": [
      "message: GLOBAL_POSITION_INT {time_boot_ms : 185351, lat : 476859136, lon : 86583376, alt : 403500, relative_alt : 841, vx : 11, vy : 4, vz : -34, hdg : 28032}\n",
      "VehicleMode:ALT_HOLD   States.FLIP   Mission.NONE\n"
     ]
    },
    {
     "name": "stderr",
     "output_type": "stream",
     "text": [
      "ERROR:dronekit:Exception in message handler for GLOBAL_POSITION_INT\n",
      "Traceback (most recent call last):\n",
      "  File \"/usr/local/lib/python3.8/dist-packages/dronekit/__init__.py\", line 1531, in notify_message_listeners\n",
      "    fn(self, name, msg)\n",
      "  File \"../src/backyard_flyer.py\", line 89, in local_position_callback\n",
      "    self.landing_transistion()\n",
      "AttributeError: 'BackyardFlyer' object has no attribute 'landing_transistion'\n"
     ]
    },
    {
     "name": "stdout",
     "output_type": "stream",
     "text": [
      "message: GLOBAL_POSITION_INT {time_boot_ms : 185851, lat : 476859139, lon : 86583380, alt : 403460, relative_alt : 808, vx : 10, vy : 4, vz : -33, hdg : 28043}\n",
      "VehicleMode:ALT_HOLD   States.FLIP   Mission.NONE\n"
     ]
    },
    {
     "name": "stderr",
     "output_type": "stream",
     "text": [
      "ERROR:dronekit:Exception in message handler for GLOBAL_POSITION_INT\n",
      "Traceback (most recent call last):\n",
      "  File \"/usr/local/lib/python3.8/dist-packages/dronekit/__init__.py\", line 1531, in notify_message_listeners\n",
      "    fn(self, name, msg)\n",
      "  File \"../src/backyard_flyer.py\", line 89, in local_position_callback\n",
      "    self.landing_transistion()\n",
      "AttributeError: 'BackyardFlyer' object has no attribute 'landing_transistion'\n"
     ]
    },
    {
     "name": "stdout",
     "output_type": "stream",
     "text": [
      "message: GLOBAL_POSITION_INT {time_boot_ms : 186101, lat : 476859140, lon : 86583383, alt : 403450, relative_alt : 793, vx : 10, vy : 4, vz : -32, hdg : 28049}\n",
      "VehicleMode:ALT_HOLD   States.FLIP   Mission.NONE\n"
     ]
    },
    {
     "name": "stderr",
     "output_type": "stream",
     "text": [
      "ERROR:dronekit:Exception in message handler for GLOBAL_POSITION_INT\n",
      "Traceback (most recent call last):\n",
      "  File \"/usr/local/lib/python3.8/dist-packages/dronekit/__init__.py\", line 1531, in notify_message_listeners\n",
      "    fn(self, name, msg)\n",
      "  File \"../src/backyard_flyer.py\", line 89, in local_position_callback\n",
      "    self.landing_transistion()\n",
      "AttributeError: 'BackyardFlyer' object has no attribute 'landing_transistion'\n"
     ]
    },
    {
     "name": "stdout",
     "output_type": "stream",
     "text": [
      "message: GLOBAL_POSITION_INT {time_boot_ms : 186601, lat : 476859142, lon : 86583388, alt : 403420, relative_alt : 762, vx : 10, vy : 4, vz : -31, hdg : 28061}\n",
      "VehicleMode:ALT_HOLD   States.FLIP   Mission.NONE\n"
     ]
    },
    {
     "name": "stderr",
     "output_type": "stream",
     "text": [
      "ERROR:dronekit:Exception in message handler for GLOBAL_POSITION_INT\n",
      "Traceback (most recent call last):\n",
      "  File \"/usr/local/lib/python3.8/dist-packages/dronekit/__init__.py\", line 1531, in notify_message_listeners\n",
      "    fn(self, name, msg)\n",
      "  File \"../src/backyard_flyer.py\", line 89, in local_position_callback\n",
      "    self.landing_transistion()\n",
      "AttributeError: 'BackyardFlyer' object has no attribute 'landing_transistion'\n"
     ]
    },
    {
     "name": "stdout",
     "output_type": "stream",
     "text": [
      "message: GLOBAL_POSITION_INT {time_boot_ms : 186851, lat : 476859143, lon : 86583390, alt : 403400, relative_alt : 745, vx : 10, vy : 4, vz : -31, hdg : 28066}\n",
      "VehicleMode:ALT_HOLD   States.FLIP   Mission.NONE\n"
     ]
    },
    {
     "name": "stderr",
     "output_type": "stream",
     "text": [
      "ERROR:dronekit:Exception in message handler for GLOBAL_POSITION_INT\n",
      "Traceback (most recent call last):\n",
      "  File \"/usr/local/lib/python3.8/dist-packages/dronekit/__init__.py\", line 1531, in notify_message_listeners\n",
      "    fn(self, name, msg)\n",
      "  File \"../src/backyard_flyer.py\", line 89, in local_position_callback\n",
      "    self.landing_transistion()\n",
      "AttributeError: 'BackyardFlyer' object has no attribute 'landing_transistion'\n"
     ]
    },
    {
     "name": "stdout",
     "output_type": "stream",
     "text": [
      "message: GLOBAL_POSITION_INT {time_boot_ms : 187101, lat : 476859145, lon : 86583393, alt : 403390, relative_alt : 732, vx : 9, vy : 4, vz : -30, hdg : 28071}\n",
      "VehicleMode:ALT_HOLD   States.FLIP   Mission.NONE\n"
     ]
    },
    {
     "name": "stderr",
     "output_type": "stream",
     "text": [
      "ERROR:dronekit:Exception in message handler for GLOBAL_POSITION_INT\n",
      "Traceback (most recent call last):\n",
      "  File \"/usr/local/lib/python3.8/dist-packages/dronekit/__init__.py\", line 1531, in notify_message_listeners\n",
      "    fn(self, name, msg)\n",
      "  File \"../src/backyard_flyer.py\", line 89, in local_position_callback\n",
      "    self.landing_transistion()\n",
      "AttributeError: 'BackyardFlyer' object has no attribute 'landing_transistion'\n"
     ]
    },
    {
     "name": "stdout",
     "output_type": "stream",
     "text": [
      "message: GLOBAL_POSITION_INT {time_boot_ms : 187351, lat : 476859146, lon : 86583395, alt : 403370, relative_alt : 715, vx : 9, vy : 3, vz : -30, hdg : 28077}\n",
      "VehicleMode:ALT_HOLD   States.FLIP   Mission.NONE\n"
     ]
    },
    {
     "name": "stderr",
     "output_type": "stream",
     "text": [
      "ERROR:dronekit:Exception in message handler for GLOBAL_POSITION_INT\n",
      "Traceback (most recent call last):\n",
      "  File \"/usr/local/lib/python3.8/dist-packages/dronekit/__init__.py\", line 1531, in notify_message_listeners\n",
      "    fn(self, name, msg)\n",
      "  File \"../src/backyard_flyer.py\", line 89, in local_position_callback\n",
      "    self.landing_transistion()\n",
      "AttributeError: 'BackyardFlyer' object has no attribute 'landing_transistion'\n"
     ]
    },
    {
     "name": "stdout",
     "output_type": "stream",
     "text": [
      "message: GLOBAL_POSITION_INT {time_boot_ms : 187601, lat : 476859146, lon : 86583396, alt : 403350, relative_alt : 698, vx : 9, vy : 3, vz : -29, hdg : 28082}\n",
      "VehicleMode:ALT_HOLD   States.FLIP   Mission.NONE\n"
     ]
    },
    {
     "name": "stderr",
     "output_type": "stream",
     "text": [
      "ERROR:dronekit:Exception in message handler for GLOBAL_POSITION_INT\n",
      "Traceback (most recent call last):\n",
      "  File \"/usr/local/lib/python3.8/dist-packages/dronekit/__init__.py\", line 1531, in notify_message_listeners\n",
      "    fn(self, name, msg)\n",
      "  File \"../src/backyard_flyer.py\", line 89, in local_position_callback\n",
      "    self.landing_transistion()\n",
      "AttributeError: 'BackyardFlyer' object has no attribute 'landing_transistion'\n"
     ]
    },
    {
     "name": "stdout",
     "output_type": "stream",
     "text": [
      "message: GLOBAL_POSITION_INT {time_boot_ms : 187851, lat : 476859147, lon : 86583397, alt : 403340, relative_alt : 684, vx : 9, vy : 3, vz : -29, hdg : 28088}\n",
      "VehicleMode:ALT_HOLD   States.FLIP   Mission.NONE\n"
     ]
    },
    {
     "name": "stderr",
     "output_type": "stream",
     "text": [
      "ERROR:dronekit:Exception in message handler for GLOBAL_POSITION_INT\n",
      "Traceback (most recent call last):\n",
      "  File \"/usr/local/lib/python3.8/dist-packages/dronekit/__init__.py\", line 1531, in notify_message_listeners\n",
      "    fn(self, name, msg)\n",
      "  File \"../src/backyard_flyer.py\", line 89, in local_position_callback\n",
      "    self.landing_transistion()\n",
      "AttributeError: 'BackyardFlyer' object has no attribute 'landing_transistion'\n"
     ]
    },
    {
     "name": "stdout",
     "output_type": "stream",
     "text": [
      "message: GLOBAL_POSITION_INT {time_boot_ms : 188101, lat : 476859148, lon : 86583399, alt : 403330, relative_alt : 673, vx : 8, vy : 3, vz : -29, hdg : 28094}\n",
      "VehicleMode:ALT_HOLD   States.FLIP   Mission.NONE\n"
     ]
    },
    {
     "name": "stderr",
     "output_type": "stream",
     "text": [
      "ERROR:dronekit:Exception in message handler for GLOBAL_POSITION_INT\n",
      "Traceback (most recent call last):\n",
      "  File \"/usr/local/lib/python3.8/dist-packages/dronekit/__init__.py\", line 1531, in notify_message_listeners\n",
      "    fn(self, name, msg)\n",
      "  File \"../src/backyard_flyer.py\", line 89, in local_position_callback\n",
      "    self.landing_transistion()\n",
      "AttributeError: 'BackyardFlyer' object has no attribute 'landing_transistion'\n"
     ]
    },
    {
     "name": "stdout",
     "output_type": "stream",
     "text": [
      "message: GLOBAL_POSITION_INT {time_boot_ms : 188352, lat : 476859148, lon : 86583401, alt : 403320, relative_alt : 661, vx : 8, vy : 2, vz : -28, hdg : 28099}\n",
      "VehicleMode:ALT_HOLD   States.FLIP   Mission.NONE\n"
     ]
    },
    {
     "name": "stderr",
     "output_type": "stream",
     "text": [
      "ERROR:dronekit:Exception in message handler for GLOBAL_POSITION_INT\n",
      "Traceback (most recent call last):\n",
      "  File \"/usr/local/lib/python3.8/dist-packages/dronekit/__init__.py\", line 1531, in notify_message_listeners\n",
      "    fn(self, name, msg)\n",
      "  File \"../src/backyard_flyer.py\", line 89, in local_position_callback\n",
      "    self.landing_transistion()\n",
      "AttributeError: 'BackyardFlyer' object has no attribute 'landing_transistion'\n"
     ]
    },
    {
     "name": "stdout",
     "output_type": "stream",
     "text": [
      "message: GLOBAL_POSITION_INT {time_boot_ms : 188851, lat : 476859150, lon : 86583404, alt : 403290, relative_alt : 638, vx : 8, vy : 2, vz : -28, hdg : 28111}\n",
      "VehicleMode:ALT_HOLD   States.FLIP   Mission.NONE\n"
     ]
    },
    {
     "name": "stderr",
     "output_type": "stream",
     "text": [
      "ERROR:dronekit:Exception in message handler for GLOBAL_POSITION_INT\n",
      "Traceback (most recent call last):\n",
      "  File \"/usr/local/lib/python3.8/dist-packages/dronekit/__init__.py\", line 1531, in notify_message_listeners\n",
      "    fn(self, name, msg)\n",
      "  File \"../src/backyard_flyer.py\", line 89, in local_position_callback\n",
      "    self.landing_transistion()\n",
      "AttributeError: 'BackyardFlyer' object has no attribute 'landing_transistion'\n"
     ]
    },
    {
     "name": "stdout",
     "output_type": "stream",
     "text": [
      "message: GLOBAL_POSITION_INT {time_boot_ms : 189351, lat : 476859153, lon : 86583408, alt : 403280, relative_alt : 623, vx : 8, vy : 3, vz : -28, hdg : 28122}\n",
      "VehicleMode:ALT_HOLD   States.FLIP   Mission.NONE\n"
     ]
    },
    {
     "name": "stderr",
     "output_type": "stream",
     "text": [
      "ERROR:dronekit:Exception in message handler for GLOBAL_POSITION_INT\n",
      "Traceback (most recent call last):\n",
      "  File \"/usr/local/lib/python3.8/dist-packages/dronekit/__init__.py\", line 1531, in notify_message_listeners\n",
      "    fn(self, name, msg)\n",
      "  File \"../src/backyard_flyer.py\", line 89, in local_position_callback\n",
      "    self.landing_transistion()\n",
      "AttributeError: 'BackyardFlyer' object has no attribute 'landing_transistion'\n"
     ]
    },
    {
     "name": "stdout",
     "output_type": "stream",
     "text": [
      "message: GLOBAL_POSITION_INT {time_boot_ms : 189601, lat : 476859154, lon : 86583410, alt : 403270, relative_alt : 615, vx : 8, vy : 3, vz : -27, hdg : 28128}\n",
      "VehicleMode:ALT_HOLD   States.FLIP   Mission.NONE\n"
     ]
    },
    {
     "name": "stderr",
     "output_type": "stream",
     "text": [
      "ERROR:dronekit:Exception in message handler for GLOBAL_POSITION_INT\n",
      "Traceback (most recent call last):\n",
      "  File \"/usr/local/lib/python3.8/dist-packages/dronekit/__init__.py\", line 1531, in notify_message_listeners\n",
      "    fn(self, name, msg)\n",
      "  File \"../src/backyard_flyer.py\", line 89, in local_position_callback\n",
      "    self.landing_transistion()\n",
      "AttributeError: 'BackyardFlyer' object has no attribute 'landing_transistion'\n"
     ]
    },
    {
     "name": "stdout",
     "output_type": "stream",
     "text": [
      "message: GLOBAL_POSITION_INT {time_boot_ms : 189851, lat : 476859155, lon : 86583412, alt : 403260, relative_alt : 609, vx : 9, vy : 3, vz : -27, hdg : 28133}\n",
      "VehicleMode:ALT_HOLD   States.FLIP   Mission.NONE\n"
     ]
    },
    {
     "name": "stderr",
     "output_type": "stream",
     "text": [
      "ERROR:dronekit:Exception in message handler for GLOBAL_POSITION_INT\n",
      "Traceback (most recent call last):\n",
      "  File \"/usr/local/lib/python3.8/dist-packages/dronekit/__init__.py\", line 1531, in notify_message_listeners\n",
      "    fn(self, name, msg)\n",
      "  File \"../src/backyard_flyer.py\", line 89, in local_position_callback\n",
      "    self.landing_transistion()\n",
      "AttributeError: 'BackyardFlyer' object has no attribute 'landing_transistion'\n"
     ]
    },
    {
     "name": "stdout",
     "output_type": "stream",
     "text": [
      "message: GLOBAL_POSITION_INT {time_boot_ms : 190101, lat : 476859157, lon : 86583413, alt : 403260, relative_alt : 607, vx : 9, vy : 3, vz : -27, hdg : 28139}\n",
      "VehicleMode:ALT_HOLD   States.FLIP   Mission.NONE\n"
     ]
    },
    {
     "name": "stderr",
     "output_type": "stream",
     "text": [
      "ERROR:dronekit:Exception in message handler for GLOBAL_POSITION_INT\n",
      "Traceback (most recent call last):\n",
      "  File \"/usr/local/lib/python3.8/dist-packages/dronekit/__init__.py\", line 1531, in notify_message_listeners\n",
      "    fn(self, name, msg)\n",
      "  File \"../src/backyard_flyer.py\", line 89, in local_position_callback\n",
      "    self.landing_transistion()\n",
      "AttributeError: 'BackyardFlyer' object has no attribute 'landing_transistion'\n"
     ]
    },
    {
     "name": "stdout",
     "output_type": "stream",
     "text": [
      "message: GLOBAL_POSITION_INT {time_boot_ms : 190851, lat : 476859160, lon : 86583418, alt : 403260, relative_alt : 605, vx : 9, vy : 3, vz : -28, hdg : 28155}\n",
      "VehicleMode:ALT_HOLD   States.FLIP   Mission.NONE\n"
     ]
    },
    {
     "name": "stderr",
     "output_type": "stream",
     "text": [
      "ERROR:dronekit:Exception in message handler for GLOBAL_POSITION_INT\n",
      "Traceback (most recent call last):\n",
      "  File \"/usr/local/lib/python3.8/dist-packages/dronekit/__init__.py\", line 1531, in notify_message_listeners\n",
      "    fn(self, name, msg)\n",
      "  File \"../src/backyard_flyer.py\", line 89, in local_position_callback\n",
      "    self.landing_transistion()\n",
      "AttributeError: 'BackyardFlyer' object has no attribute 'landing_transistion'\n"
     ]
    },
    {
     "name": "stdout",
     "output_type": "stream",
     "text": [
      "message: GLOBAL_POSITION_INT {time_boot_ms : 191351, lat : 476859162, lon : 86583420, alt : 403300, relative_alt : 642, vx : 9, vy : 3, vz : -30, hdg : 28165}\n",
      "VehicleMode:ALT_HOLD   States.FLIP   Mission.NONE\n"
     ]
    },
    {
     "name": "stderr",
     "output_type": "stream",
     "text": [
      "ERROR:dronekit:Exception in message handler for GLOBAL_POSITION_INT\n",
      "Traceback (most recent call last):\n",
      "  File \"/usr/local/lib/python3.8/dist-packages/dronekit/__init__.py\", line 1531, in notify_message_listeners\n",
      "    fn(self, name, msg)\n",
      "  File \"../src/backyard_flyer.py\", line 89, in local_position_callback\n",
      "    self.landing_transistion()\n",
      "AttributeError: 'BackyardFlyer' object has no attribute 'landing_transistion'\n"
     ]
    },
    {
     "name": "stdout",
     "output_type": "stream",
     "text": [
      "message: GLOBAL_POSITION_INT {time_boot_ms : 191601, lat : 476859164, lon : 86583421, alt : 403320, relative_alt : 662, vx : 9, vy : 3, vz : -30, hdg : 28170}\n",
      "VehicleMode:ALT_HOLD   States.FLIP   Mission.NONE\n"
     ]
    },
    {
     "name": "stderr",
     "output_type": "stream",
     "text": [
      "ERROR:dronekit:Exception in message handler for GLOBAL_POSITION_INT\n",
      "Traceback (most recent call last):\n",
      "  File \"/usr/local/lib/python3.8/dist-packages/dronekit/__init__.py\", line 1531, in notify_message_listeners\n",
      "    fn(self, name, msg)\n",
      "  File \"../src/backyard_flyer.py\", line 89, in local_position_callback\n",
      "    self.landing_transistion()\n",
      "AttributeError: 'BackyardFlyer' object has no attribute 'landing_transistion'\n"
     ]
    },
    {
     "name": "stdout",
     "output_type": "stream",
     "text": [
      "message: GLOBAL_POSITION_INT {time_boot_ms : 191851, lat : 476859165, lon : 86583423, alt : 403340, relative_alt : 684, vx : 10, vy : 3, vz : -31, hdg : 28176}\n",
      "VehicleMode:ALT_HOLD   States.FLIP   Mission.NONE\n"
     ]
    },
    {
     "name": "stderr",
     "output_type": "stream",
     "text": [
      "ERROR:dronekit:Exception in message handler for GLOBAL_POSITION_INT\n",
      "Traceback (most recent call last):\n",
      "  File \"/usr/local/lib/python3.8/dist-packages/dronekit/__init__.py\", line 1531, in notify_message_listeners\n",
      "    fn(self, name, msg)\n",
      "  File \"../src/backyard_flyer.py\", line 89, in local_position_callback\n",
      "    self.landing_transistion()\n",
      "AttributeError: 'BackyardFlyer' object has no attribute 'landing_transistion'\n"
     ]
    },
    {
     "name": "stdout",
     "output_type": "stream",
     "text": [
      "message: GLOBAL_POSITION_INT {time_boot_ms : 192852, lat : 476859169, lon : 86583428, alt : 403440, relative_alt : 786, vx : 11, vy : 4, vz : -35, hdg : 28198}\n",
      "VehicleMode:ALT_HOLD   States.FLIP   Mission.NONE\n"
     ]
    },
    {
     "name": "stderr",
     "output_type": "stream",
     "text": [
      "ERROR:dronekit:Exception in message handler for GLOBAL_POSITION_INT\n",
      "Traceback (most recent call last):\n",
      "  File \"/usr/local/lib/python3.8/dist-packages/dronekit/__init__.py\", line 1531, in notify_message_listeners\n",
      "    fn(self, name, msg)\n",
      "  File \"../src/backyard_flyer.py\", line 89, in local_position_callback\n",
      "    self.landing_transistion()\n",
      "AttributeError: 'BackyardFlyer' object has no attribute 'landing_transistion'\n"
     ]
    },
    {
     "name": "stdout",
     "output_type": "stream",
     "text": [
      "message: GLOBAL_POSITION_INT {time_boot_ms : 193101, lat : 476859171, lon : 86583429, alt : 403460, relative_alt : 801, vx : 11, vy : 4, vz : -35, hdg : 28203}\n",
      "VehicleMode:ALT_HOLD   States.FLIP   Mission.NONE\n"
     ]
    },
    {
     "name": "stderr",
     "output_type": "stream",
     "text": [
      "ERROR:dronekit:Exception in message handler for GLOBAL_POSITION_INT\n",
      "Traceback (most recent call last):\n",
      "  File \"/usr/local/lib/python3.8/dist-packages/dronekit/__init__.py\", line 1531, in notify_message_listeners\n",
      "    fn(self, name, msg)\n",
      "  File \"../src/backyard_flyer.py\", line 89, in local_position_callback\n",
      "    self.landing_transistion()\n",
      "AttributeError: 'BackyardFlyer' object has no attribute 'landing_transistion'\n"
     ]
    },
    {
     "name": "stdout",
     "output_type": "stream",
     "text": [
      "message: GLOBAL_POSITION_INT {time_boot_ms : 193603, lat : 476859173, lon : 86583431, alt : 403470, relative_alt : 811, vx : 11, vy : 4, vz : -35, hdg : 28214}\n",
      "VehicleMode:ALT_HOLD   States.FLIP   Mission.NONE\n"
     ]
    },
    {
     "name": "stderr",
     "output_type": "stream",
     "text": [
      "ERROR:dronekit:Exception in message handler for GLOBAL_POSITION_INT\n",
      "Traceback (most recent call last):\n",
      "  File \"/usr/local/lib/python3.8/dist-packages/dronekit/__init__.py\", line 1531, in notify_message_listeners\n",
      "    fn(self, name, msg)\n",
      "  File \"../src/backyard_flyer.py\", line 89, in local_position_callback\n",
      "    self.landing_transistion()\n",
      "AttributeError: 'BackyardFlyer' object has no attribute 'landing_transistion'\n"
     ]
    },
    {
     "name": "stdout",
     "output_type": "stream",
     "text": [
      "message: GLOBAL_POSITION_INT {time_boot_ms : 194351, lat : 476859176, lon : 86583433, alt : 403440, relative_alt : 786, vx : 11, vy : 4, vz : -34, hdg : 28230}\n",
      "VehicleMode:ALT_HOLD   States.FLIP   Mission.NONE\n"
     ]
    },
    {
     "name": "stderr",
     "output_type": "stream",
     "text": [
      "ERROR:dronekit:Exception in message handler for GLOBAL_POSITION_INT\n",
      "Traceback (most recent call last):\n",
      "  File \"/usr/local/lib/python3.8/dist-packages/dronekit/__init__.py\", line 1531, in notify_message_listeners\n",
      "    fn(self, name, msg)\n",
      "  File \"../src/backyard_flyer.py\", line 89, in local_position_callback\n",
      "    self.landing_transistion()\n",
      "AttributeError: 'BackyardFlyer' object has no attribute 'landing_transistion'\n"
     ]
    },
    {
     "name": "stdout",
     "output_type": "stream",
     "text": [
      "message: GLOBAL_POSITION_INT {time_boot_ms : 194601, lat : 476859177, lon : 86583433, alt : 403430, relative_alt : 771, vx : 11, vy : 4, vz : -33, hdg : 28236}\n",
      "VehicleMode:ALT_HOLD   States.FLIP   Mission.NONE\n"
     ]
    },
    {
     "name": "stderr",
     "output_type": "stream",
     "text": [
      "ERROR:dronekit:Exception in message handler for GLOBAL_POSITION_INT\n",
      "Traceback (most recent call last):\n",
      "  File \"/usr/local/lib/python3.8/dist-packages/dronekit/__init__.py\", line 1531, in notify_message_listeners\n",
      "    fn(self, name, msg)\n",
      "  File \"../src/backyard_flyer.py\", line 89, in local_position_callback\n",
      "    self.landing_transistion()\n",
      "AttributeError: 'BackyardFlyer' object has no attribute 'landing_transistion'\n"
     ]
    },
    {
     "name": "stdout",
     "output_type": "stream",
     "text": [
      "message: GLOBAL_POSITION_INT {time_boot_ms : 195351, lat : 476859179, lon : 86583435, alt : 403380, relative_alt : 726, vx : 10, vy : 4, vz : -31, hdg : 28251}\n",
      "VehicleMode:ALT_HOLD   States.FLIP   Mission.NONE\n"
     ]
    },
    {
     "name": "stderr",
     "output_type": "stream",
     "text": [
      "ERROR:dronekit:Exception in message handler for GLOBAL_POSITION_INT\n",
      "Traceback (most recent call last):\n",
      "  File \"/usr/local/lib/python3.8/dist-packages/dronekit/__init__.py\", line 1531, in notify_message_listeners\n",
      "    fn(self, name, msg)\n",
      "  File \"../src/backyard_flyer.py\", line 89, in local_position_callback\n",
      "    self.landing_transistion()\n",
      "AttributeError: 'BackyardFlyer' object has no attribute 'landing_transistion'\n"
     ]
    },
    {
     "name": "stdout",
     "output_type": "stream",
     "text": [
      "message: GLOBAL_POSITION_INT {time_boot_ms : 195601, lat : 476859179, lon : 86583434, alt : 403370, relative_alt : 710, vx : 9, vy : 4, vz : -30, hdg : 28256}\n",
      "VehicleMode:ALT_HOLD   States.FLIP   Mission.NONE\n"
     ]
    },
    {
     "name": "stderr",
     "output_type": "stream",
     "text": [
      "ERROR:dronekit:Exception in message handler for GLOBAL_POSITION_INT\n",
      "Traceback (most recent call last):\n",
      "  File \"/usr/local/lib/python3.8/dist-packages/dronekit/__init__.py\", line 1531, in notify_message_listeners\n",
      "    fn(self, name, msg)\n",
      "  File \"../src/backyard_flyer.py\", line 89, in local_position_callback\n",
      "    self.landing_transistion()\n",
      "AttributeError: 'BackyardFlyer' object has no attribute 'landing_transistion'\n"
     ]
    },
    {
     "name": "stdout",
     "output_type": "stream",
     "text": [
      "message: GLOBAL_POSITION_INT {time_boot_ms : 195851, lat : 476859180, lon : 86583434, alt : 403350, relative_alt : 695, vx : 9, vy : 4, vz : -30, hdg : 28262}\n",
      "VehicleMode:ALT_HOLD   States.FLIP   Mission.NONE\n"
     ]
    },
    {
     "name": "stderr",
     "output_type": "stream",
     "text": [
      "ERROR:dronekit:Exception in message handler for GLOBAL_POSITION_INT\n",
      "Traceback (most recent call last):\n",
      "  File \"/usr/local/lib/python3.8/dist-packages/dronekit/__init__.py\", line 1531, in notify_message_listeners\n",
      "    fn(self, name, msg)\n",
      "  File \"../src/backyard_flyer.py\", line 89, in local_position_callback\n",
      "    self.landing_transistion()\n",
      "AttributeError: 'BackyardFlyer' object has no attribute 'landing_transistion'\n"
     ]
    },
    {
     "name": "stdout",
     "output_type": "stream",
     "text": [
      "message: GLOBAL_POSITION_INT {time_boot_ms : 196351, lat : 476859181, lon : 86583435, alt : 403330, relative_alt : 675, vx : 9, vy : 4, vz : -29, hdg : 28272}\n",
      "VehicleMode:ALT_HOLD   States.FLIP   Mission.NONE\n"
     ]
    },
    {
     "name": "stderr",
     "output_type": "stream",
     "text": [
      "ERROR:dronekit:Exception in message handler for GLOBAL_POSITION_INT\n",
      "Traceback (most recent call last):\n",
      "  File \"/usr/local/lib/python3.8/dist-packages/dronekit/__init__.py\", line 1531, in notify_message_listeners\n",
      "    fn(self, name, msg)\n",
      "  File \"../src/backyard_flyer.py\", line 89, in local_position_callback\n",
      "    self.landing_transistion()\n",
      "AttributeError: 'BackyardFlyer' object has no attribute 'landing_transistion'\n"
     ]
    },
    {
     "name": "stdout",
     "output_type": "stream",
     "text": [
      "message: GLOBAL_POSITION_INT {time_boot_ms : 196601, lat : 476859182, lon : 86583435, alt : 403320, relative_alt : 668, vx : 9, vy : 4, vz : -29, hdg : 28277}\n",
      "VehicleMode:ALT_HOLD   States.FLIP   Mission.NONE\n"
     ]
    },
    {
     "name": "stderr",
     "output_type": "stream",
     "text": [
      "ERROR:dronekit:Exception in message handler for GLOBAL_POSITION_INT\n",
      "Traceback (most recent call last):\n",
      "  File \"/usr/local/lib/python3.8/dist-packages/dronekit/__init__.py\", line 1531, in notify_message_listeners\n",
      "    fn(self, name, msg)\n",
      "  File \"../src/backyard_flyer.py\", line 89, in local_position_callback\n",
      "    self.landing_transistion()\n",
      "AttributeError: 'BackyardFlyer' object has no attribute 'landing_transistion'\n"
     ]
    },
    {
     "name": "stdout",
     "output_type": "stream",
     "text": [
      "message: GLOBAL_POSITION_INT {time_boot_ms : 196851, lat : 476859183, lon : 86583435, alt : 403320, relative_alt : 660, vx : 10, vy : 4, vz : -28, hdg : 28282}\n",
      "VehicleMode:ALT_HOLD   States.FLIP   Mission.NONE\n"
     ]
    },
    {
     "name": "stderr",
     "output_type": "stream",
     "text": [
      "ERROR:dronekit:Exception in message handler for GLOBAL_POSITION_INT\n",
      "Traceback (most recent call last):\n",
      "  File \"/usr/local/lib/python3.8/dist-packages/dronekit/__init__.py\", line 1531, in notify_message_listeners\n",
      "    fn(self, name, msg)\n",
      "  File \"../src/backyard_flyer.py\", line 89, in local_position_callback\n",
      "    self.landing_transistion()\n",
      "AttributeError: 'BackyardFlyer' object has no attribute 'landing_transistion'\n"
     ]
    },
    {
     "name": "stdout",
     "output_type": "stream",
     "text": [
      "message: GLOBAL_POSITION_INT {time_boot_ms : 197101, lat : 476859184, lon : 86583436, alt : 403310, relative_alt : 654, vx : 10, vy : 4, vz : -28, hdg : 28287}\n",
      "VehicleMode:ALT_HOLD   States.FLIP   Mission.NONE\n"
     ]
    },
    {
     "name": "stderr",
     "output_type": "stream",
     "text": [
      "ERROR:dronekit:Exception in message handler for GLOBAL_POSITION_INT\n",
      "Traceback (most recent call last):\n",
      "  File \"/usr/local/lib/python3.8/dist-packages/dronekit/__init__.py\", line 1531, in notify_message_listeners\n",
      "    fn(self, name, msg)\n",
      "  File \"../src/backyard_flyer.py\", line 89, in local_position_callback\n",
      "    self.landing_transistion()\n",
      "AttributeError: 'BackyardFlyer' object has no attribute 'landing_transistion'\n"
     ]
    },
    {
     "name": "stdout",
     "output_type": "stream",
     "text": [
      "message: GLOBAL_POSITION_INT {time_boot_ms : 197351, lat : 476859185, lon : 86583436, alt : 403300, relative_alt : 646, vx : 10, vy : 4, vz : -28, hdg : 28292}\n",
      "VehicleMode:ALT_HOLD   States.FLIP   Mission.NONE\n"
     ]
    },
    {
     "name": "stderr",
     "output_type": "stream",
     "text": [
      "ERROR:dronekit:Exception in message handler for GLOBAL_POSITION_INT\n",
      "Traceback (most recent call last):\n",
      "  File \"/usr/local/lib/python3.8/dist-packages/dronekit/__init__.py\", line 1531, in notify_message_listeners\n",
      "    fn(self, name, msg)\n",
      "  File \"../src/backyard_flyer.py\", line 89, in local_position_callback\n",
      "    self.landing_transistion()\n",
      "AttributeError: 'BackyardFlyer' object has no attribute 'landing_transistion'\n"
     ]
    },
    {
     "name": "stdout",
     "output_type": "stream",
     "text": [
      "message: GLOBAL_POSITION_INT {time_boot_ms : 197601, lat : 476859185, lon : 86583436, alt : 403290, relative_alt : 637, vx : 9, vy : 4, vz : -28, hdg : 28297}\n",
      "VehicleMode:ALT_HOLD   States.FLIP   Mission.NONE\n"
     ]
    },
    {
     "name": "stderr",
     "output_type": "stream",
     "text": [
      "ERROR:dronekit:Exception in message handler for GLOBAL_POSITION_INT\n",
      "Traceback (most recent call last):\n",
      "  File \"/usr/local/lib/python3.8/dist-packages/dronekit/__init__.py\", line 1531, in notify_message_listeners\n",
      "    fn(self, name, msg)\n",
      "  File \"../src/backyard_flyer.py\", line 89, in local_position_callback\n",
      "    self.landing_transistion()\n",
      "AttributeError: 'BackyardFlyer' object has no attribute 'landing_transistion'\n"
     ]
    },
    {
     "name": "stdout",
     "output_type": "stream",
     "text": [
      "message: GLOBAL_POSITION_INT {time_boot_ms : 197851, lat : 476859186, lon : 86583435, alt : 403280, relative_alt : 627, vx : 9, vy : 4, vz : -27, hdg : 28302}\n",
      "VehicleMode:ALT_HOLD   States.FLIP   Mission.NONE\n"
     ]
    },
    {
     "name": "stderr",
     "output_type": "stream",
     "text": [
      "ERROR:dronekit:Exception in message handler for GLOBAL_POSITION_INT\n",
      "Traceback (most recent call last):\n",
      "  File \"/usr/local/lib/python3.8/dist-packages/dronekit/__init__.py\", line 1531, in notify_message_listeners\n",
      "    fn(self, name, msg)\n",
      "  File \"../src/backyard_flyer.py\", line 89, in local_position_callback\n",
      "    self.landing_transistion()\n",
      "AttributeError: 'BackyardFlyer' object has no attribute 'landing_transistion'\n"
     ]
    },
    {
     "name": "stdout",
     "output_type": "stream",
     "text": [
      "message: GLOBAL_POSITION_INT {time_boot_ms : 198101, lat : 476859187, lon : 86583435, alt : 403270, relative_alt : 616, vx : 9, vy : 4, vz : -27, hdg : 28307}\n",
      "VehicleMode:ALT_HOLD   States.FLIP   Mission.NONE\n"
     ]
    },
    {
     "name": "stderr",
     "output_type": "stream",
     "text": [
      "ERROR:dronekit:Exception in message handler for GLOBAL_POSITION_INT\n",
      "Traceback (most recent call last):\n",
      "  File \"/usr/local/lib/python3.8/dist-packages/dronekit/__init__.py\", line 1531, in notify_message_listeners\n",
      "    fn(self, name, msg)\n",
      "  File \"../src/backyard_flyer.py\", line 89, in local_position_callback\n",
      "    self.landing_transistion()\n",
      "AttributeError: 'BackyardFlyer' object has no attribute 'landing_transistion'\n"
     ]
    },
    {
     "name": "stdout",
     "output_type": "stream",
     "text": [
      "message: GLOBAL_POSITION_INT {time_boot_ms : 198351, lat : 476859187, lon : 86583435, alt : 403260, relative_alt : 603, vx : 9, vy : 3, vz : -27, hdg : 28312}\n",
      "VehicleMode:ALT_HOLD   States.FLIP   Mission.NONE\n"
     ]
    },
    {
     "name": "stderr",
     "output_type": "stream",
     "text": [
      "ERROR:dronekit:Exception in message handler for GLOBAL_POSITION_INT\n",
      "Traceback (most recent call last):\n",
      "  File \"/usr/local/lib/python3.8/dist-packages/dronekit/__init__.py\", line 1531, in notify_message_listeners\n",
      "    fn(self, name, msg)\n",
      "  File \"../src/backyard_flyer.py\", line 89, in local_position_callback\n",
      "    self.landing_transistion()\n",
      "AttributeError: 'BackyardFlyer' object has no attribute 'landing_transistion'\n"
     ]
    },
    {
     "name": "stdout",
     "output_type": "stream",
     "text": [
      "message: GLOBAL_POSITION_INT {time_boot_ms : 198851, lat : 476859188, lon : 86583434, alt : 403230, relative_alt : 572, vx : 9, vy : 3, vz : -26, hdg : 28322}\n",
      "VehicleMode:ALT_HOLD   States.FLIP   Mission.NONE\n"
     ]
    },
    {
     "name": "stderr",
     "output_type": "stream",
     "text": [
      "ERROR:dronekit:Exception in message handler for GLOBAL_POSITION_INT\n",
      "Traceback (most recent call last):\n",
      "  File \"/usr/local/lib/python3.8/dist-packages/dronekit/__init__.py\", line 1531, in notify_message_listeners\n",
      "    fn(self, name, msg)\n",
      "  File \"../src/backyard_flyer.py\", line 89, in local_position_callback\n",
      "    self.landing_transistion()\n",
      "AttributeError: 'BackyardFlyer' object has no attribute 'landing_transistion'\n"
     ]
    },
    {
     "name": "stdout",
     "output_type": "stream",
     "text": [
      "message: GLOBAL_POSITION_INT {time_boot_ms : 199101, lat : 476859188, lon : 86583434, alt : 403210, relative_alt : 559, vx : 9, vy : 3, vz : -25, hdg : 28327}\n",
      "VehicleMode:ALT_HOLD   States.FLIP   Mission.NONE\n"
     ]
    },
    {
     "name": "stderr",
     "output_type": "stream",
     "text": [
      "ERROR:dronekit:Exception in message handler for GLOBAL_POSITION_INT\n",
      "Traceback (most recent call last):\n",
      "  File \"/usr/local/lib/python3.8/dist-packages/dronekit/__init__.py\", line 1531, in notify_message_listeners\n",
      "    fn(self, name, msg)\n",
      "  File \"../src/backyard_flyer.py\", line 89, in local_position_callback\n",
      "    self.landing_transistion()\n",
      "AttributeError: 'BackyardFlyer' object has no attribute 'landing_transistion'\n"
     ]
    },
    {
     "name": "stdout",
     "output_type": "stream",
     "text": [
      "message: GLOBAL_POSITION_INT {time_boot_ms : 199351, lat : 476859189, lon : 86583434, alt : 403200, relative_alt : 545, vx : 9, vy : 3, vz : -25, hdg : 28332}\n",
      "VehicleMode:ALT_HOLD   States.FLIP   Mission.NONE\n"
     ]
    },
    {
     "name": "stderr",
     "output_type": "stream",
     "text": [
      "ERROR:dronekit:Exception in message handler for GLOBAL_POSITION_INT\n",
      "Traceback (most recent call last):\n",
      "  File \"/usr/local/lib/python3.8/dist-packages/dronekit/__init__.py\", line 1531, in notify_message_listeners\n",
      "    fn(self, name, msg)\n",
      "  File \"../src/backyard_flyer.py\", line 89, in local_position_callback\n",
      "    self.landing_transistion()\n",
      "AttributeError: 'BackyardFlyer' object has no attribute 'landing_transistion'\n"
     ]
    },
    {
     "name": "stdout",
     "output_type": "stream",
     "text": [
      "message: GLOBAL_POSITION_INT {time_boot_ms : 200101, lat : 476859190, lon : 86583433, alt : 403170, relative_alt : 513, vx : 8, vy : 3, vz : -24, hdg : 28346}\n",
      "VehicleMode:ALT_HOLD   States.FLIP   Mission.NONE\n"
     ]
    },
    {
     "name": "stderr",
     "output_type": "stream",
     "text": [
      "ERROR:dronekit:Exception in message handler for GLOBAL_POSITION_INT\n",
      "Traceback (most recent call last):\n",
      "  File \"/usr/local/lib/python3.8/dist-packages/dronekit/__init__.py\", line 1531, in notify_message_listeners\n",
      "    fn(self, name, msg)\n",
      "  File \"../src/backyard_flyer.py\", line 89, in local_position_callback\n",
      "    self.landing_transistion()\n",
      "AttributeError: 'BackyardFlyer' object has no attribute 'landing_transistion'\n"
     ]
    },
    {
     "name": "stdout",
     "output_type": "stream",
     "text": [
      "message: GLOBAL_POSITION_INT {time_boot_ms : 200351, lat : 476859191, lon : 86583434, alt : 403160, relative_alt : 503, vx : 8, vy : 4, vz : -24, hdg : 28351}\n",
      "VehicleMode:ALT_HOLD   States.FLIP   Mission.NONE\n"
     ]
    },
    {
     "name": "stderr",
     "output_type": "stream",
     "text": [
      "ERROR:dronekit:Exception in message handler for GLOBAL_POSITION_INT\n",
      "Traceback (most recent call last):\n",
      "  File \"/usr/local/lib/python3.8/dist-packages/dronekit/__init__.py\", line 1531, in notify_message_listeners\n",
      "    fn(self, name, msg)\n",
      "  File \"../src/backyard_flyer.py\", line 89, in local_position_callback\n",
      "    self.landing_transistion()\n",
      "AttributeError: 'BackyardFlyer' object has no attribute 'landing_transistion'\n"
     ]
    },
    {
     "name": "stdout",
     "output_type": "stream",
     "text": [
      "message: GLOBAL_POSITION_INT {time_boot_ms : 200601, lat : 476859191, lon : 86583433, alt : 403150, relative_alt : 492, vx : 8, vy : 3, vz : -24, hdg : 28356}\n",
      "VehicleMode:ALT_HOLD   States.FLIP   Mission.NONE\n"
     ]
    },
    {
     "name": "stderr",
     "output_type": "stream",
     "text": [
      "ERROR:dronekit:Exception in message handler for GLOBAL_POSITION_INT\n",
      "Traceback (most recent call last):\n",
      "  File \"/usr/local/lib/python3.8/dist-packages/dronekit/__init__.py\", line 1531, in notify_message_listeners\n",
      "    fn(self, name, msg)\n",
      "  File \"../src/backyard_flyer.py\", line 89, in local_position_callback\n",
      "    self.landing_transistion()\n",
      "AttributeError: 'BackyardFlyer' object has no attribute 'landing_transistion'\n"
     ]
    },
    {
     "name": "stdout",
     "output_type": "stream",
     "text": [
      "message: GLOBAL_POSITION_INT {time_boot_ms : 200851, lat : 476859191, lon : 86583432, alt : 403140, relative_alt : 482, vx : 7, vy : 3, vz : -24, hdg : 28361}\n",
      "VehicleMode:ALT_HOLD   States.FLIP   Mission.NONE\n"
     ]
    },
    {
     "name": "stderr",
     "output_type": "stream",
     "text": [
      "ERROR:dronekit:Exception in message handler for GLOBAL_POSITION_INT\n",
      "Traceback (most recent call last):\n",
      "  File \"/usr/local/lib/python3.8/dist-packages/dronekit/__init__.py\", line 1531, in notify_message_listeners\n",
      "    fn(self, name, msg)\n",
      "  File \"../src/backyard_flyer.py\", line 89, in local_position_callback\n",
      "    self.landing_transistion()\n",
      "AttributeError: 'BackyardFlyer' object has no attribute 'landing_transistion'\n"
     ]
    },
    {
     "name": "stdout",
     "output_type": "stream",
     "text": [
      "message: GLOBAL_POSITION_INT {time_boot_ms : 201351, lat : 476859191, lon : 86583431, alt : 403130, relative_alt : 471, vx : 7, vy : 3, vz : -24, hdg : 28370}\n",
      "VehicleMode:ALT_HOLD   States.FLIP   Mission.NONE\n"
     ]
    },
    {
     "name": "stderr",
     "output_type": "stream",
     "text": [
      "ERROR:dronekit:Exception in message handler for GLOBAL_POSITION_INT\n",
      "Traceback (most recent call last):\n",
      "  File \"/usr/local/lib/python3.8/dist-packages/dronekit/__init__.py\", line 1531, in notify_message_listeners\n",
      "    fn(self, name, msg)\n",
      "  File \"../src/backyard_flyer.py\", line 89, in local_position_callback\n",
      "    self.landing_transistion()\n",
      "AttributeError: 'BackyardFlyer' object has no attribute 'landing_transistion'\n"
     ]
    },
    {
     "name": "stdout",
     "output_type": "stream",
     "text": [
      "message: GLOBAL_POSITION_INT {time_boot_ms : 201601, lat : 476859191, lon : 86583431, alt : 403120, relative_alt : 464, vx : 7, vy : 3, vz : -24, hdg : 28374}\n",
      "VehicleMode:ALT_HOLD   States.FLIP   Mission.NONE\n"
     ]
    },
    {
     "name": "stderr",
     "output_type": "stream",
     "text": [
      "ERROR:dronekit:Exception in message handler for GLOBAL_POSITION_INT\n",
      "Traceback (most recent call last):\n",
      "  File \"/usr/local/lib/python3.8/dist-packages/dronekit/__init__.py\", line 1531, in notify_message_listeners\n",
      "    fn(self, name, msg)\n",
      "  File \"../src/backyard_flyer.py\", line 89, in local_position_callback\n",
      "    self.landing_transistion()\n",
      "AttributeError: 'BackyardFlyer' object has no attribute 'landing_transistion'\n"
     ]
    },
    {
     "name": "stdout",
     "output_type": "stream",
     "text": [
      "message: GLOBAL_POSITION_INT {time_boot_ms : 201851, lat : 476859191, lon : 86583431, alt : 403120, relative_alt : 460, vx : 6, vy : 3, vz : -24, hdg : 28379}\n",
      "VehicleMode:ALT_HOLD   States.FLIP   Mission.NONE\n"
     ]
    },
    {
     "name": "stderr",
     "output_type": "stream",
     "text": [
      "ERROR:dronekit:Exception in message handler for GLOBAL_POSITION_INT\n",
      "Traceback (most recent call last):\n",
      "  File \"/usr/local/lib/python3.8/dist-packages/dronekit/__init__.py\", line 1531, in notify_message_listeners\n",
      "    fn(self, name, msg)\n",
      "  File \"../src/backyard_flyer.py\", line 89, in local_position_callback\n",
      "    self.landing_transistion()\n",
      "AttributeError: 'BackyardFlyer' object has no attribute 'landing_transistion'\n"
     ]
    },
    {
     "name": "stdout",
     "output_type": "stream",
     "text": [
      "message: GLOBAL_POSITION_INT {time_boot_ms : 202101, lat : 476859191, lon : 86583431, alt : 403120, relative_alt : 460, vx : 6, vy : 3, vz : -24, hdg : 28385}\n",
      "VehicleMode:ALT_HOLD   States.FLIP   Mission.NONE\n"
     ]
    },
    {
     "name": "stderr",
     "output_type": "stream",
     "text": [
      "ERROR:dronekit:Exception in message handler for GLOBAL_POSITION_INT\n",
      "Traceback (most recent call last):\n",
      "  File \"/usr/local/lib/python3.8/dist-packages/dronekit/__init__.py\", line 1531, in notify_message_listeners\n",
      "    fn(self, name, msg)\n",
      "  File \"../src/backyard_flyer.py\", line 89, in local_position_callback\n",
      "    self.landing_transistion()\n",
      "AttributeError: 'BackyardFlyer' object has no attribute 'landing_transistion'\n"
     ]
    },
    {
     "name": "stdout",
     "output_type": "stream",
     "text": [
      "message: GLOBAL_POSITION_INT {time_boot_ms : 202351, lat : 476859192, lon : 86583432, alt : 403110, relative_alt : 458, vx : 6, vy : 3, vz : -24, hdg : 28390}\n",
      "VehicleMode:ALT_HOLD   States.FLIP   Mission.NONE\n"
     ]
    },
    {
     "name": "stderr",
     "output_type": "stream",
     "text": [
      "ERROR:dronekit:Exception in message handler for GLOBAL_POSITION_INT\n",
      "Traceback (most recent call last):\n",
      "  File \"/usr/local/lib/python3.8/dist-packages/dronekit/__init__.py\", line 1531, in notify_message_listeners\n",
      "    fn(self, name, msg)\n",
      "  File \"../src/backyard_flyer.py\", line 89, in local_position_callback\n",
      "    self.landing_transistion()\n",
      "AttributeError: 'BackyardFlyer' object has no attribute 'landing_transistion'\n"
     ]
    },
    {
     "name": "stdout",
     "output_type": "stream",
     "text": [
      "message: GLOBAL_POSITION_INT {time_boot_ms : 202601, lat : 476859192, lon : 86583432, alt : 403120, relative_alt : 460, vx : 6, vy : 4, vz : -24, hdg : 28394}\n",
      "VehicleMode:ALT_HOLD   States.FLIP   Mission.NONE\n"
     ]
    },
    {
     "name": "stderr",
     "output_type": "stream",
     "text": [
      "ERROR:dronekit:Exception in message handler for GLOBAL_POSITION_INT\n",
      "Traceback (most recent call last):\n",
      "  File \"/usr/local/lib/python3.8/dist-packages/dronekit/__init__.py\", line 1531, in notify_message_listeners\n",
      "    fn(self, name, msg)\n",
      "  File \"../src/backyard_flyer.py\", line 89, in local_position_callback\n",
      "    self.landing_transistion()\n",
      "AttributeError: 'BackyardFlyer' object has no attribute 'landing_transistion'\n"
     ]
    },
    {
     "name": "stdout",
     "output_type": "stream",
     "text": [
      "message: GLOBAL_POSITION_INT {time_boot_ms : 202851, lat : 476859193, lon : 86583433, alt : 403120, relative_alt : 469, vx : 7, vy : 4, vz : -25, hdg : 28399}\n",
      "VehicleMode:ALT_HOLD   States.FLIP   Mission.NONE\n"
     ]
    },
    {
     "name": "stderr",
     "output_type": "stream",
     "text": [
      "ERROR:dronekit:Exception in message handler for GLOBAL_POSITION_INT\n",
      "Traceback (most recent call last):\n",
      "  File \"/usr/local/lib/python3.8/dist-packages/dronekit/__init__.py\", line 1531, in notify_message_listeners\n",
      "    fn(self, name, msg)\n",
      "  File \"../src/backyard_flyer.py\", line 89, in local_position_callback\n",
      "    self.landing_transistion()\n",
      "AttributeError: 'BackyardFlyer' object has no attribute 'landing_transistion'\n"
     ]
    },
    {
     "name": "stdout",
     "output_type": "stream",
     "text": [
      "message: GLOBAL_POSITION_INT {time_boot_ms : 203101, lat : 476859194, lon : 86583433, alt : 403140, relative_alt : 484, vx : 7, vy : 4, vz : -25, hdg : 28404}\n",
      "VehicleMode:ALT_HOLD   States.FLIP   Mission.NONE\n"
     ]
    },
    {
     "name": "stderr",
     "output_type": "stream",
     "text": [
      "ERROR:dronekit:Exception in message handler for GLOBAL_POSITION_INT\n",
      "Traceback (most recent call last):\n",
      "  File \"/usr/local/lib/python3.8/dist-packages/dronekit/__init__.py\", line 1531, in notify_message_listeners\n",
      "    fn(self, name, msg)\n",
      "  File \"../src/backyard_flyer.py\", line 89, in local_position_callback\n",
      "    self.landing_transistion()\n",
      "AttributeError: 'BackyardFlyer' object has no attribute 'landing_transistion'\n"
     ]
    },
    {
     "name": "stdout",
     "output_type": "stream",
     "text": [
      "message: GLOBAL_POSITION_INT {time_boot_ms : 203351, lat : 476859194, lon : 86583434, alt : 403150, relative_alt : 497, vx : 7, vy : 4, vz : -26, hdg : 28409}\n",
      "VehicleMode:ALT_HOLD   States.FLIP   Mission.NONE\n"
     ]
    },
    {
     "name": "stderr",
     "output_type": "stream",
     "text": [
      "ERROR:dronekit:Exception in message handler for GLOBAL_POSITION_INT\n",
      "Traceback (most recent call last):\n",
      "  File \"/usr/local/lib/python3.8/dist-packages/dronekit/__init__.py\", line 1531, in notify_message_listeners\n",
      "    fn(self, name, msg)\n",
      "  File \"../src/backyard_flyer.py\", line 89, in local_position_callback\n",
      "    self.landing_transistion()\n",
      "AttributeError: 'BackyardFlyer' object has no attribute 'landing_transistion'\n"
     ]
    },
    {
     "name": "stdout",
     "output_type": "stream",
     "text": [
      "message: GLOBAL_POSITION_INT {time_boot_ms : 203601, lat : 476859195, lon : 86583434, alt : 403160, relative_alt : 508, vx : 7, vy : 4, vz : -26, hdg : 28414}\n",
      "VehicleMode:ALT_HOLD   States.FLIP   Mission.NONE\n"
     ]
    },
    {
     "name": "stderr",
     "output_type": "stream",
     "text": [
      "ERROR:dronekit:Exception in message handler for GLOBAL_POSITION_INT\n",
      "Traceback (most recent call last):\n",
      "  File \"/usr/local/lib/python3.8/dist-packages/dronekit/__init__.py\", line 1531, in notify_message_listeners\n",
      "    fn(self, name, msg)\n",
      "  File \"../src/backyard_flyer.py\", line 89, in local_position_callback\n",
      "    self.landing_transistion()\n",
      "AttributeError: 'BackyardFlyer' object has no attribute 'landing_transistion'\n"
     ]
    },
    {
     "name": "stdout",
     "output_type": "stream",
     "text": [
      "message: GLOBAL_POSITION_INT {time_boot_ms : 203851, lat : 476859196, lon : 86583435, alt : 403170, relative_alt : 515, vx : 7, vy : 4, vz : -26, hdg : 28418}\n",
      "VehicleMode:ALT_HOLD   States.FLIP   Mission.NONE\n"
     ]
    },
    {
     "name": "stderr",
     "output_type": "stream",
     "text": [
      "ERROR:dronekit:Exception in message handler for GLOBAL_POSITION_INT\n",
      "Traceback (most recent call last):\n",
      "  File \"/usr/local/lib/python3.8/dist-packages/dronekit/__init__.py\", line 1531, in notify_message_listeners\n",
      "    fn(self, name, msg)\n",
      "  File \"../src/backyard_flyer.py\", line 89, in local_position_callback\n",
      "    self.landing_transistion()\n",
      "AttributeError: 'BackyardFlyer' object has no attribute 'landing_transistion'\n"
     ]
    },
    {
     "name": "stdout",
     "output_type": "stream",
     "text": [
      "message: GLOBAL_POSITION_INT {time_boot_ms : 204101, lat : 476859197, lon : 86583435, alt : 403180, relative_alt : 523, vx : 8, vy : 4, vz : -27, hdg : 28423}\n",
      "VehicleMode:ALT_HOLD   States.FLIP   Mission.NONE\n"
     ]
    },
    {
     "name": "stderr",
     "output_type": "stream",
     "text": [
      "ERROR:dronekit:Exception in message handler for GLOBAL_POSITION_INT\n",
      "Traceback (most recent call last):\n",
      "  File \"/usr/local/lib/python3.8/dist-packages/dronekit/__init__.py\", line 1531, in notify_message_listeners\n",
      "    fn(self, name, msg)\n",
      "  File \"../src/backyard_flyer.py\", line 89, in local_position_callback\n",
      "    self.landing_transistion()\n",
      "AttributeError: 'BackyardFlyer' object has no attribute 'landing_transistion'\n"
     ]
    },
    {
     "name": "stdout",
     "output_type": "stream",
     "text": [
      "message: GLOBAL_POSITION_INT {time_boot_ms : 204351, lat : 476859198, lon : 86583436, alt : 403180, relative_alt : 526, vx : 8, vy : 4, vz : -27, hdg : 28427}\n",
      "VehicleMode:ALT_HOLD   States.FLIP   Mission.NONE\n"
     ]
    },
    {
     "name": "stderr",
     "output_type": "stream",
     "text": [
      "ERROR:dronekit:Exception in message handler for GLOBAL_POSITION_INT\n",
      "Traceback (most recent call last):\n",
      "  File \"/usr/local/lib/python3.8/dist-packages/dronekit/__init__.py\", line 1531, in notify_message_listeners\n",
      "    fn(self, name, msg)\n",
      "  File \"../src/backyard_flyer.py\", line 89, in local_position_callback\n",
      "    self.landing_transistion()\n",
      "AttributeError: 'BackyardFlyer' object has no attribute 'landing_transistion'\n"
     ]
    },
    {
     "name": "stdout",
     "output_type": "stream",
     "text": [
      "message: GLOBAL_POSITION_INT {time_boot_ms : 204601, lat : 476859198, lon : 86583436, alt : 403180, relative_alt : 526, vx : 8, vy : 4, vz : -26, hdg : 28432}\n",
      "VehicleMode:ALT_HOLD   States.FLIP   Mission.NONE\n"
     ]
    },
    {
     "name": "stderr",
     "output_type": "stream",
     "text": [
      "ERROR:dronekit:Exception in message handler for GLOBAL_POSITION_INT\n",
      "Traceback (most recent call last):\n",
      "  File \"/usr/local/lib/python3.8/dist-packages/dronekit/__init__.py\", line 1531, in notify_message_listeners\n",
      "    fn(self, name, msg)\n",
      "  File \"../src/backyard_flyer.py\", line 89, in local_position_callback\n",
      "    self.landing_transistion()\n",
      "AttributeError: 'BackyardFlyer' object has no attribute 'landing_transistion'\n"
     ]
    },
    {
     "name": "stdout",
     "output_type": "stream",
     "text": [
      "message: GLOBAL_POSITION_INT {time_boot_ms : 205101, lat : 476859199, lon : 86583437, alt : 403170, relative_alt : 517, vx : 8, vy : 4, vz : -26, hdg : 28441}\n",
      "VehicleMode:ALT_HOLD   States.FLIP   Mission.NONE\n"
     ]
    },
    {
     "name": "stderr",
     "output_type": "stream",
     "text": [
      "ERROR:dronekit:Exception in message handler for GLOBAL_POSITION_INT\n",
      "Traceback (most recent call last):\n",
      "  File \"/usr/local/lib/python3.8/dist-packages/dronekit/__init__.py\", line 1531, in notify_message_listeners\n",
      "    fn(self, name, msg)\n",
      "  File \"../src/backyard_flyer.py\", line 89, in local_position_callback\n",
      "    self.landing_transistion()\n",
      "AttributeError: 'BackyardFlyer' object has no attribute 'landing_transistion'\n"
     ]
    },
    {
     "name": "stdout",
     "output_type": "stream",
     "text": [
      "message: GLOBAL_POSITION_INT {time_boot_ms : 205601, lat : 476859200, lon : 86583438, alt : 403150, relative_alt : 497, vx : 7, vy : 4, vz : -25, hdg : 28449}\n",
      "VehicleMode:ALT_HOLD   States.FLIP   Mission.NONE\n"
     ]
    },
    {
     "name": "stderr",
     "output_type": "stream",
     "text": [
      "ERROR:dronekit:Exception in message handler for GLOBAL_POSITION_INT\n",
      "Traceback (most recent call last):\n",
      "  File \"/usr/local/lib/python3.8/dist-packages/dronekit/__init__.py\", line 1531, in notify_message_listeners\n",
      "    fn(self, name, msg)\n",
      "  File \"../src/backyard_flyer.py\", line 89, in local_position_callback\n",
      "    self.landing_transistion()\n",
      "AttributeError: 'BackyardFlyer' object has no attribute 'landing_transistion'\n"
     ]
    },
    {
     "name": "stdout",
     "output_type": "stream",
     "text": [
      "message: GLOBAL_POSITION_INT {time_boot_ms : 205851, lat : 476859200, lon : 86583438, alt : 403140, relative_alt : 486, vx : 7, vy : 3, vz : -25, hdg : 28454}\n",
      "VehicleMode:ALT_HOLD   States.FLIP   Mission.NONE\n"
     ]
    },
    {
     "name": "stderr",
     "output_type": "stream",
     "text": [
      "ERROR:dronekit:Exception in message handler for GLOBAL_POSITION_INT\n",
      "Traceback (most recent call last):\n",
      "  File \"/usr/local/lib/python3.8/dist-packages/dronekit/__init__.py\", line 1531, in notify_message_listeners\n",
      "    fn(self, name, msg)\n",
      "  File \"../src/backyard_flyer.py\", line 89, in local_position_callback\n",
      "    self.landing_transistion()\n",
      "AttributeError: 'BackyardFlyer' object has no attribute 'landing_transistion'\n"
     ]
    },
    {
     "name": "stdout",
     "output_type": "stream",
     "text": [
      "message: GLOBAL_POSITION_INT {time_boot_ms : 206101, lat : 476859201, lon : 86583438, alt : 403140, relative_alt : 480, vx : 7, vy : 3, vz : -24, hdg : 28457}\n",
      "VehicleMode:ALT_HOLD   States.FLIP   Mission.NONE\n"
     ]
    },
    {
     "name": "stderr",
     "output_type": "stream",
     "text": [
      "ERROR:dronekit:Exception in message handler for GLOBAL_POSITION_INT\n",
      "Traceback (most recent call last):\n",
      "  File \"/usr/local/lib/python3.8/dist-packages/dronekit/__init__.py\", line 1531, in notify_message_listeners\n",
      "    fn(self, name, msg)\n",
      "  File \"../src/backyard_flyer.py\", line 89, in local_position_callback\n",
      "    self.landing_transistion()\n",
      "AttributeError: 'BackyardFlyer' object has no attribute 'landing_transistion'\n"
     ]
    },
    {
     "name": "stdout",
     "output_type": "stream",
     "text": [
      "message: GLOBAL_POSITION_INT {time_boot_ms : 206351, lat : 476859201, lon : 86583438, alt : 403130, relative_alt : 472, vx : 7, vy : 3, vz : -24, hdg : 28461}\n",
      "VehicleMode:ALT_HOLD   States.FLIP   Mission.NONE\n"
     ]
    },
    {
     "name": "stderr",
     "output_type": "stream",
     "text": [
      "ERROR:dronekit:Exception in message handler for GLOBAL_POSITION_INT\n",
      "Traceback (most recent call last):\n",
      "  File \"/usr/local/lib/python3.8/dist-packages/dronekit/__init__.py\", line 1531, in notify_message_listeners\n",
      "    fn(self, name, msg)\n",
      "  File \"../src/backyard_flyer.py\", line 89, in local_position_callback\n",
      "    self.landing_transistion()\n",
      "AttributeError: 'BackyardFlyer' object has no attribute 'landing_transistion'\n"
     ]
    },
    {
     "name": "stdout",
     "output_type": "stream",
     "text": [
      "message: GLOBAL_POSITION_INT {time_boot_ms : 206601, lat : 476859201, lon : 86583439, alt : 403120, relative_alt : 463, vx : 7, vy : 3, vz : -24, hdg : 28465}\n",
      "VehicleMode:ALT_HOLD   States.FLIP   Mission.NONE\n"
     ]
    },
    {
     "name": "stderr",
     "output_type": "stream",
     "text": [
      "ERROR:dronekit:Exception in message handler for GLOBAL_POSITION_INT\n",
      "Traceback (most recent call last):\n",
      "  File \"/usr/local/lib/python3.8/dist-packages/dronekit/__init__.py\", line 1531, in notify_message_listeners\n",
      "    fn(self, name, msg)\n",
      "  File \"../src/backyard_flyer.py\", line 89, in local_position_callback\n",
      "    self.landing_transistion()\n",
      "AttributeError: 'BackyardFlyer' object has no attribute 'landing_transistion'\n"
     ]
    },
    {
     "name": "stdout",
     "output_type": "stream",
     "text": [
      "message: GLOBAL_POSITION_INT {time_boot_ms : 207101, lat : 476859201, lon : 86583438, alt : 403100, relative_alt : 447, vx : 6, vy : 3, vz : -24, hdg : 28473}\n",
      "VehicleMode:ALT_HOLD   States.FLIP   Mission.NONE\n"
     ]
    },
    {
     "name": "stderr",
     "output_type": "stream",
     "text": [
      "ERROR:dronekit:Exception in message handler for GLOBAL_POSITION_INT\n",
      "Traceback (most recent call last):\n",
      "  File \"/usr/local/lib/python3.8/dist-packages/dronekit/__init__.py\", line 1531, in notify_message_listeners\n",
      "    fn(self, name, msg)\n",
      "  File \"../src/backyard_flyer.py\", line 89, in local_position_callback\n",
      "    self.landing_transistion()\n",
      "AttributeError: 'BackyardFlyer' object has no attribute 'landing_transistion'\n"
     ]
    },
    {
     "name": "stdout",
     "output_type": "stream",
     "text": [
      "message: GLOBAL_POSITION_INT {time_boot_ms : 207601, lat : 476859202, lon : 86583439, alt : 403090, relative_alt : 431, vx : 6, vy : 3, vz : -23, hdg : 28480}\n",
      "VehicleMode:ALT_HOLD   States.FLIP   Mission.NONE\n"
     ]
    },
    {
     "name": "stderr",
     "output_type": "stream",
     "text": [
      "ERROR:dronekit:Exception in message handler for GLOBAL_POSITION_INT\n",
      "Traceback (most recent call last):\n",
      "  File \"/usr/local/lib/python3.8/dist-packages/dronekit/__init__.py\", line 1531, in notify_message_listeners\n",
      "    fn(self, name, msg)\n",
      "  File \"../src/backyard_flyer.py\", line 89, in local_position_callback\n",
      "    self.landing_transistion()\n",
      "AttributeError: 'BackyardFlyer' object has no attribute 'landing_transistion'\n"
     ]
    },
    {
     "name": "stdout",
     "output_type": "stream",
     "text": [
      "message: GLOBAL_POSITION_INT {time_boot_ms : 208101, lat : 476859203, lon : 86583440, alt : 403080, relative_alt : 419, vx : 6, vy : 3, vz : -23, hdg : 28489}\n",
      "VehicleMode:ALT_HOLD   States.FLIP   Mission.NONE\n"
     ]
    },
    {
     "name": "stderr",
     "output_type": "stream",
     "text": [
      "ERROR:dronekit:Exception in message handler for GLOBAL_POSITION_INT\n",
      "Traceback (most recent call last):\n",
      "  File \"/usr/local/lib/python3.8/dist-packages/dronekit/__init__.py\", line 1531, in notify_message_listeners\n",
      "    fn(self, name, msg)\n",
      "  File \"../src/backyard_flyer.py\", line 89, in local_position_callback\n",
      "    self.landing_transistion()\n",
      "AttributeError: 'BackyardFlyer' object has no attribute 'landing_transistion'\n"
     ]
    },
    {
     "name": "stdout",
     "output_type": "stream",
     "text": [
      "message: GLOBAL_POSITION_INT {time_boot_ms : 208351, lat : 476859203, lon : 86583440, alt : 403070, relative_alt : 415, vx : 6, vy : 3, vz : -23, hdg : 28493}\n",
      "VehicleMode:ALT_HOLD   States.FLIP   Mission.NONE\n"
     ]
    },
    {
     "name": "stderr",
     "output_type": "stream",
     "text": [
      "ERROR:dronekit:Exception in message handler for GLOBAL_POSITION_INT\n",
      "Traceback (most recent call last):\n",
      "  File \"/usr/local/lib/python3.8/dist-packages/dronekit/__init__.py\", line 1531, in notify_message_listeners\n",
      "    fn(self, name, msg)\n",
      "  File \"../src/backyard_flyer.py\", line 89, in local_position_callback\n",
      "    self.landing_transistion()\n",
      "AttributeError: 'BackyardFlyer' object has no attribute 'landing_transistion'\n"
     ]
    },
    {
     "name": "stdout",
     "output_type": "stream",
     "text": [
      "message: GLOBAL_POSITION_INT {time_boot_ms : 208601, lat : 476859204, lon : 86583440, alt : 403060, relative_alt : 409, vx : 6, vy : 3, vz : -22, hdg : 28498}\n",
      "VehicleMode:ALT_HOLD   States.FLIP   Mission.NONE\n"
     ]
    },
    {
     "name": "stderr",
     "output_type": "stream",
     "text": [
      "ERROR:dronekit:Exception in message handler for GLOBAL_POSITION_INT\n",
      "Traceback (most recent call last):\n",
      "  File \"/usr/local/lib/python3.8/dist-packages/dronekit/__init__.py\", line 1531, in notify_message_listeners\n",
      "    fn(self, name, msg)\n",
      "  File \"../src/backyard_flyer.py\", line 89, in local_position_callback\n",
      "    self.landing_transistion()\n",
      "AttributeError: 'BackyardFlyer' object has no attribute 'landing_transistion'\n"
     ]
    },
    {
     "name": "stdout",
     "output_type": "stream",
     "text": [
      "message: GLOBAL_POSITION_INT {time_boot_ms : 208851, lat : 476859204, lon : 86583440, alt : 403060, relative_alt : 403, vx : 6, vy : 3, vz : -22, hdg : 28502}\n",
      "VehicleMode:ALT_HOLD   States.FLIP   Mission.NONE\n"
     ]
    },
    {
     "name": "stderr",
     "output_type": "stream",
     "text": [
      "ERROR:dronekit:Exception in message handler for GLOBAL_POSITION_INT\n",
      "Traceback (most recent call last):\n",
      "  File \"/usr/local/lib/python3.8/dist-packages/dronekit/__init__.py\", line 1531, in notify_message_listeners\n",
      "    fn(self, name, msg)\n",
      "  File \"../src/backyard_flyer.py\", line 89, in local_position_callback\n",
      "    self.landing_transistion()\n",
      "AttributeError: 'BackyardFlyer' object has no attribute 'landing_transistion'\n"
     ]
    },
    {
     "name": "stdout",
     "output_type": "stream",
     "text": [
      "message: GLOBAL_POSITION_INT {time_boot_ms : 209101, lat : 476859204, lon : 86583440, alt : 403060, relative_alt : 400, vx : 6, vy : 3, vz : -22, hdg : 28506}\n",
      "VehicleMode:ALT_HOLD   States.FLIP   Mission.NONE\n"
     ]
    },
    {
     "name": "stderr",
     "output_type": "stream",
     "text": [
      "ERROR:dronekit:Exception in message handler for GLOBAL_POSITION_INT\n",
      "Traceback (most recent call last):\n",
      "  File \"/usr/local/lib/python3.8/dist-packages/dronekit/__init__.py\", line 1531, in notify_message_listeners\n",
      "    fn(self, name, msg)\n",
      "  File \"../src/backyard_flyer.py\", line 89, in local_position_callback\n",
      "    self.landing_transistion()\n",
      "AttributeError: 'BackyardFlyer' object has no attribute 'landing_transistion'\n"
     ]
    },
    {
     "name": "stdout",
     "output_type": "stream",
     "text": [
      "message: GLOBAL_POSITION_INT {time_boot_ms : 209351, lat : 476859204, lon : 86583440, alt : 403050, relative_alt : 395, vx : 6, vy : 2, vz : -22, hdg : 28509}\n",
      "VehicleMode:ALT_HOLD   States.FLIP   Mission.NONE\n"
     ]
    },
    {
     "name": "stderr",
     "output_type": "stream",
     "text": [
      "ERROR:dronekit:Exception in message handler for GLOBAL_POSITION_INT\n",
      "Traceback (most recent call last):\n",
      "  File \"/usr/local/lib/python3.8/dist-packages/dronekit/__init__.py\", line 1531, in notify_message_listeners\n",
      "    fn(self, name, msg)\n",
      "  File \"../src/backyard_flyer.py\", line 89, in local_position_callback\n",
      "    self.landing_transistion()\n",
      "AttributeError: 'BackyardFlyer' object has no attribute 'landing_transistion'\n"
     ]
    },
    {
     "name": "stdout",
     "output_type": "stream",
     "text": [
      "message: GLOBAL_POSITION_INT {time_boot_ms : 209601, lat : 476859205, lon : 86583439, alt : 403050, relative_alt : 390, vx : 6, vy : 2, vz : -22, hdg : 28513}\n",
      "VehicleMode:ALT_HOLD   States.FLIP   Mission.NONE\n"
     ]
    },
    {
     "name": "stderr",
     "output_type": "stream",
     "text": [
      "ERROR:dronekit:Exception in message handler for GLOBAL_POSITION_INT\n",
      "Traceback (most recent call last):\n",
      "  File \"/usr/local/lib/python3.8/dist-packages/dronekit/__init__.py\", line 1531, in notify_message_listeners\n",
      "    fn(self, name, msg)\n",
      "  File \"../src/backyard_flyer.py\", line 89, in local_position_callback\n",
      "    self.landing_transistion()\n",
      "AttributeError: 'BackyardFlyer' object has no attribute 'landing_transistion'\n"
     ]
    },
    {
     "name": "stdout",
     "output_type": "stream",
     "text": [
      "message: GLOBAL_POSITION_INT {time_boot_ms : 209851, lat : 476859205, lon : 86583440, alt : 403040, relative_alt : 387, vx : 5, vy : 2, vz : -22, hdg : 28517}\n",
      "VehicleMode:ALT_HOLD   States.FLIP   Mission.NONE\n"
     ]
    },
    {
     "name": "stderr",
     "output_type": "stream",
     "text": [
      "ERROR:dronekit:Exception in message handler for GLOBAL_POSITION_INT\n",
      "Traceback (most recent call last):\n",
      "  File \"/usr/local/lib/python3.8/dist-packages/dronekit/__init__.py\", line 1531, in notify_message_listeners\n",
      "    fn(self, name, msg)\n",
      "  File \"../src/backyard_flyer.py\", line 89, in local_position_callback\n",
      "    self.landing_transistion()\n",
      "AttributeError: 'BackyardFlyer' object has no attribute 'landing_transistion'\n"
     ]
    },
    {
     "name": "stdout",
     "output_type": "stream",
     "text": [
      "message: GLOBAL_POSITION_INT {time_boot_ms : 210351, lat : 476859205, lon : 86583440, alt : 403040, relative_alt : 386, vx : 5, vy : 2, vz : -22, hdg : 28525}\n",
      "VehicleMode:ALT_HOLD   States.FLIP   Mission.NONE\n"
     ]
    },
    {
     "name": "stderr",
     "output_type": "stream",
     "text": [
      "ERROR:dronekit:Exception in message handler for GLOBAL_POSITION_INT\n",
      "Traceback (most recent call last):\n",
      "  File \"/usr/local/lib/python3.8/dist-packages/dronekit/__init__.py\", line 1531, in notify_message_listeners\n",
      "    fn(self, name, msg)\n",
      "  File \"../src/backyard_flyer.py\", line 89, in local_position_callback\n",
      "    self.landing_transistion()\n",
      "AttributeError: 'BackyardFlyer' object has no attribute 'landing_transistion'\n"
     ]
    },
    {
     "name": "stdout",
     "output_type": "stream",
     "text": [
      "message: GLOBAL_POSITION_INT {time_boot_ms : 210851, lat : 476859207, lon : 86583439, alt : 403050, relative_alt : 390, vx : 6, vy : 2, vz : -22, hdg : 28532}\n",
      "VehicleMode:ALT_HOLD   States.FLIP   Mission.NONE\n"
     ]
    },
    {
     "name": "stderr",
     "output_type": "stream",
     "text": [
      "ERROR:dronekit:Exception in message handler for GLOBAL_POSITION_INT\n",
      "Traceback (most recent call last):\n",
      "  File \"/usr/local/lib/python3.8/dist-packages/dronekit/__init__.py\", line 1531, in notify_message_listeners\n",
      "    fn(self, name, msg)\n",
      "  File \"../src/backyard_flyer.py\", line 89, in local_position_callback\n",
      "    self.landing_transistion()\n",
      "AttributeError: 'BackyardFlyer' object has no attribute 'landing_transistion'\n"
     ]
    },
    {
     "name": "stdout",
     "output_type": "stream",
     "text": [
      "message: GLOBAL_POSITION_INT {time_boot_ms : 211351, lat : 476859207, lon : 86583440, alt : 403080, relative_alt : 426, vx : 6, vy : 3, vz : -24, hdg : 28541}\n",
      "VehicleMode:ALT_HOLD   States.FLIP   Mission.NONE\n"
     ]
    },
    {
     "name": "stderr",
     "output_type": "stream",
     "text": [
      "ERROR:dronekit:Exception in message handler for GLOBAL_POSITION_INT\n",
      "Traceback (most recent call last):\n",
      "  File \"/usr/local/lib/python3.8/dist-packages/dronekit/__init__.py\", line 1531, in notify_message_listeners\n",
      "    fn(self, name, msg)\n",
      "  File \"../src/backyard_flyer.py\", line 89, in local_position_callback\n",
      "    self.landing_transistion()\n",
      "AttributeError: 'BackyardFlyer' object has no attribute 'landing_transistion'\n"
     ]
    },
    {
     "name": "stdout",
     "output_type": "stream",
     "text": [
      "message: GLOBAL_POSITION_INT {time_boot_ms : 211601, lat : 476859208, lon : 86583440, alt : 403110, relative_alt : 451, vx : 6, vy : 3, vz : -25, hdg : 28545}\n",
      "VehicleMode:ALT_HOLD   States.FLIP   Mission.NONE\n"
     ]
    },
    {
     "name": "stderr",
     "output_type": "stream",
     "text": [
      "ERROR:dronekit:Exception in message handler for GLOBAL_POSITION_INT\n",
      "Traceback (most recent call last):\n",
      "  File \"/usr/local/lib/python3.8/dist-packages/dronekit/__init__.py\", line 1531, in notify_message_listeners\n",
      "    fn(self, name, msg)\n",
      "  File \"../src/backyard_flyer.py\", line 89, in local_position_callback\n",
      "    self.landing_transistion()\n",
      "AttributeError: 'BackyardFlyer' object has no attribute 'landing_transistion'\n"
     ]
    },
    {
     "name": "stdout",
     "output_type": "stream",
     "text": [
      "message: GLOBAL_POSITION_INT {time_boot_ms : 211851, lat : 476859209, lon : 86583440, alt : 403130, relative_alt : 472, vx : 6, vy : 3, vz : -26, hdg : 28548}\n",
      "VehicleMode:ALT_HOLD   States.FLIP   Mission.NONE\n"
     ]
    },
    {
     "name": "stderr",
     "output_type": "stream",
     "text": [
      "ERROR:dronekit:Exception in message handler for GLOBAL_POSITION_INT\n",
      "Traceback (most recent call last):\n",
      "  File \"/usr/local/lib/python3.8/dist-packages/dronekit/__init__.py\", line 1531, in notify_message_listeners\n",
      "    fn(self, name, msg)\n",
      "  File \"../src/backyard_flyer.py\", line 89, in local_position_callback\n",
      "    self.landing_transistion()\n",
      "AttributeError: 'BackyardFlyer' object has no attribute 'landing_transistion'\n"
     ]
    },
    {
     "name": "stdout",
     "output_type": "stream",
     "text": [
      "message: GLOBAL_POSITION_INT {time_boot_ms : 212351, lat : 476859209, lon : 86583439, alt : 403170, relative_alt : 511, vx : 6, vy : 3, vz : -27, hdg : 28556}\n",
      "VehicleMode:ALT_HOLD   States.FLIP   Mission.NONE\n"
     ]
    },
    {
     "name": "stderr",
     "output_type": "stream",
     "text": [
      "ERROR:dronekit:Exception in message handler for GLOBAL_POSITION_INT\n",
      "Traceback (most recent call last):\n",
      "  File \"/usr/local/lib/python3.8/dist-packages/dronekit/__init__.py\", line 1531, in notify_message_listeners\n",
      "    fn(self, name, msg)\n",
      "  File \"../src/backyard_flyer.py\", line 89, in local_position_callback\n",
      "    self.landing_transistion()\n",
      "AttributeError: 'BackyardFlyer' object has no attribute 'landing_transistion'\n"
     ]
    },
    {
     "name": "stdout",
     "output_type": "stream",
     "text": [
      "message: GLOBAL_POSITION_INT {time_boot_ms : 212601, lat : 476859209, lon : 86583439, alt : 403200, relative_alt : 545, vx : 6, vy : 3, vz : -28, hdg : 28561}\n",
      "VehicleMode:ALT_HOLD   States.FLIP   Mission.NONE\n"
     ]
    },
    {
     "name": "stderr",
     "output_type": "stream",
     "text": [
      "ERROR:dronekit:Exception in message handler for GLOBAL_POSITION_INT\n",
      "Traceback (most recent call last):\n",
      "  File \"/usr/local/lib/python3.8/dist-packages/dronekit/__init__.py\", line 1531, in notify_message_listeners\n",
      "    fn(self, name, msg)\n",
      "  File \"../src/backyard_flyer.py\", line 89, in local_position_callback\n",
      "    self.landing_transistion()\n",
      "AttributeError: 'BackyardFlyer' object has no attribute 'landing_transistion'\n"
     ]
    },
    {
     "name": "stdout",
     "output_type": "stream",
     "text": [
      "message: GLOBAL_POSITION_INT {time_boot_ms : 212851, lat : 476859210, lon : 86583439, alt : 403230, relative_alt : 579, vx : 6, vy : 3, vz : -30, hdg : 28565}\n",
      "VehicleMode:ALT_HOLD   States.FLIP   Mission.NONE\n"
     ]
    },
    {
     "name": "stderr",
     "output_type": "stream",
     "text": [
      "ERROR:dronekit:Exception in message handler for GLOBAL_POSITION_INT\n",
      "Traceback (most recent call last):\n",
      "  File \"/usr/local/lib/python3.8/dist-packages/dronekit/__init__.py\", line 1531, in notify_message_listeners\n",
      "    fn(self, name, msg)\n",
      "  File \"../src/backyard_flyer.py\", line 89, in local_position_callback\n",
      "    self.landing_transistion()\n",
      "AttributeError: 'BackyardFlyer' object has no attribute 'landing_transistion'\n"
     ]
    },
    {
     "name": "stdout",
     "output_type": "stream",
     "text": [
      "message: GLOBAL_POSITION_INT {time_boot_ms : 213101, lat : 476859211, lon : 86583439, alt : 403260, relative_alt : 609, vx : 7, vy : 3, vz : -30, hdg : 28568}\n",
      "VehicleMode:ALT_HOLD   States.FLIP   Mission.NONE\n"
     ]
    },
    {
     "name": "stderr",
     "output_type": "stream",
     "text": [
      "ERROR:dronekit:Exception in message handler for GLOBAL_POSITION_INT\n",
      "Traceback (most recent call last):\n",
      "  File \"/usr/local/lib/python3.8/dist-packages/dronekit/__init__.py\", line 1531, in notify_message_listeners\n",
      "    fn(self, name, msg)\n",
      "  File \"../src/backyard_flyer.py\", line 89, in local_position_callback\n",
      "    self.landing_transistion()\n",
      "AttributeError: 'BackyardFlyer' object has no attribute 'landing_transistion'\n"
     ]
    },
    {
     "name": "stdout",
     "output_type": "stream",
     "text": [
      "message: GLOBAL_POSITION_INT {time_boot_ms : 213352, lat : 476859211, lon : 86583439, alt : 403280, relative_alt : 626, vx : 7, vy : 3, vz : -31, hdg : 28572}\n",
      "VehicleMode:ALT_HOLD   States.FLIP   Mission.NONE\n"
     ]
    },
    {
     "name": "stderr",
     "output_type": "stream",
     "text": [
      "ERROR:dronekit:Exception in message handler for GLOBAL_POSITION_INT\n",
      "Traceback (most recent call last):\n",
      "  File \"/usr/local/lib/python3.8/dist-packages/dronekit/__init__.py\", line 1531, in notify_message_listeners\n",
      "    fn(self, name, msg)\n",
      "  File \"../src/backyard_flyer.py\", line 89, in local_position_callback\n",
      "    self.landing_transistion()\n",
      "AttributeError: 'BackyardFlyer' object has no attribute 'landing_transistion'\n"
     ]
    },
    {
     "name": "stdout",
     "output_type": "stream",
     "text": [
      "message: GLOBAL_POSITION_INT {time_boot_ms : 213601, lat : 476859211, lon : 86583438, alt : 403290, relative_alt : 634, vx : 7, vy : 3, vz : -31, hdg : 28576}\n",
      "VehicleMode:ALT_HOLD   States.FLIP   Mission.NONE\n"
     ]
    },
    {
     "name": "stderr",
     "output_type": "stream",
     "text": [
      "ERROR:dronekit:Exception in message handler for GLOBAL_POSITION_INT\n",
      "Traceback (most recent call last):\n",
      "  File \"/usr/local/lib/python3.8/dist-packages/dronekit/__init__.py\", line 1531, in notify_message_listeners\n",
      "    fn(self, name, msg)\n",
      "  File \"../src/backyard_flyer.py\", line 89, in local_position_callback\n",
      "    self.landing_transistion()\n",
      "AttributeError: 'BackyardFlyer' object has no attribute 'landing_transistion'\n"
     ]
    },
    {
     "name": "stdout",
     "output_type": "stream",
     "text": [
      "message: GLOBAL_POSITION_INT {time_boot_ms : 213851, lat : 476859212, lon : 86583438, alt : 403290, relative_alt : 633, vx : 7, vy : 3, vz : -30, hdg : 28579}\n",
      "VehicleMode:ALT_HOLD   States.FLIP   Mission.NONE\n"
     ]
    },
    {
     "name": "stderr",
     "output_type": "stream",
     "text": [
      "ERROR:dronekit:Exception in message handler for GLOBAL_POSITION_INT\n",
      "Traceback (most recent call last):\n",
      "  File \"/usr/local/lib/python3.8/dist-packages/dronekit/__init__.py\", line 1531, in notify_message_listeners\n",
      "    fn(self, name, msg)\n",
      "  File \"../src/backyard_flyer.py\", line 89, in local_position_callback\n",
      "    self.landing_transistion()\n",
      "AttributeError: 'BackyardFlyer' object has no attribute 'landing_transistion'\n"
     ]
    },
    {
     "name": "stdout",
     "output_type": "stream",
     "text": [
      "message: GLOBAL_POSITION_INT {time_boot_ms : 214101, lat : 476859212, lon : 86583437, alt : 403290, relative_alt : 630, vx : 7, vy : 3, vz : -30, hdg : 28582}\n",
      "VehicleMode:ALT_HOLD   States.FLIP   Mission.NONE\n"
     ]
    },
    {
     "name": "stderr",
     "output_type": "stream",
     "text": [
      "ERROR:dronekit:Exception in message handler for GLOBAL_POSITION_INT\n",
      "Traceback (most recent call last):\n",
      "  File \"/usr/local/lib/python3.8/dist-packages/dronekit/__init__.py\", line 1531, in notify_message_listeners\n",
      "    fn(self, name, msg)\n",
      "  File \"../src/backyard_flyer.py\", line 89, in local_position_callback\n",
      "    self.landing_transistion()\n",
      "AttributeError: 'BackyardFlyer' object has no attribute 'landing_transistion'\n"
     ]
    },
    {
     "name": "stdout",
     "output_type": "stream",
     "text": [
      "message: GLOBAL_POSITION_INT {time_boot_ms : 214601, lat : 476859213, lon : 86583436, alt : 403270, relative_alt : 611, vx : 7, vy : 3, vz : -28, hdg : 28590}\n",
      "VehicleMode:ALT_HOLD   States.FLIP   Mission.NONE\n"
     ]
    },
    {
     "name": "stderr",
     "output_type": "stream",
     "text": [
      "ERROR:dronekit:Exception in message handler for GLOBAL_POSITION_INT\n",
      "Traceback (most recent call last):\n",
      "  File \"/usr/local/lib/python3.8/dist-packages/dronekit/__init__.py\", line 1531, in notify_message_listeners\n",
      "    fn(self, name, msg)\n",
      "  File \"../src/backyard_flyer.py\", line 89, in local_position_callback\n",
      "    self.landing_transistion()\n",
      "AttributeError: 'BackyardFlyer' object has no attribute 'landing_transistion'\n"
     ]
    },
    {
     "name": "stdout",
     "output_type": "stream",
     "text": [
      "message: GLOBAL_POSITION_INT {time_boot_ms : 214851, lat : 476859213, lon : 86583436, alt : 403250, relative_alt : 597, vx : 7, vy : 3, vz : -28, hdg : 28594}\n",
      "VehicleMode:ALT_HOLD   States.FLIP   Mission.NONE\n"
     ]
    },
    {
     "name": "stderr",
     "output_type": "stream",
     "text": [
      "ERROR:dronekit:Exception in message handler for GLOBAL_POSITION_INT\n",
      "Traceback (most recent call last):\n",
      "  File \"/usr/local/lib/python3.8/dist-packages/dronekit/__init__.py\", line 1531, in notify_message_listeners\n",
      "    fn(self, name, msg)\n",
      "  File \"../src/backyard_flyer.py\", line 89, in local_position_callback\n",
      "    self.landing_transistion()\n",
      "AttributeError: 'BackyardFlyer' object has no attribute 'landing_transistion'\n"
     ]
    },
    {
     "name": "stdout",
     "output_type": "stream",
     "text": [
      "message: GLOBAL_POSITION_INT {time_boot_ms : 215101, lat : 476859212, lon : 86583435, alt : 403240, relative_alt : 584, vx : 7, vy : 3, vz : -27, hdg : 28598}\n",
      "VehicleMode:ALT_HOLD   States.FLIP   Mission.NONE\n"
     ]
    },
    {
     "name": "stderr",
     "output_type": "stream",
     "text": [
      "ERROR:dronekit:Exception in message handler for GLOBAL_POSITION_INT\n",
      "Traceback (most recent call last):\n",
      "  File \"/usr/local/lib/python3.8/dist-packages/dronekit/__init__.py\", line 1531, in notify_message_listeners\n",
      "    fn(self, name, msg)\n",
      "  File \"../src/backyard_flyer.py\", line 89, in local_position_callback\n",
      "    self.landing_transistion()\n",
      "AttributeError: 'BackyardFlyer' object has no attribute 'landing_transistion'\n"
     ]
    },
    {
     "name": "stdout",
     "output_type": "stream",
     "text": [
      "message: GLOBAL_POSITION_INT {time_boot_ms : 215351, lat : 476859212, lon : 86583434, alt : 403220, relative_alt : 569, vx : 6, vy : 3, vz : -26, hdg : 28602}\n",
      "VehicleMode:ALT_HOLD   States.FLIP   Mission.NONE\n"
     ]
    },
    {
     "name": "stderr",
     "output_type": "stream",
     "text": [
      "ERROR:dronekit:Exception in message handler for GLOBAL_POSITION_INT\n",
      "Traceback (most recent call last):\n",
      "  File \"/usr/local/lib/python3.8/dist-packages/dronekit/__init__.py\", line 1531, in notify_message_listeners\n",
      "    fn(self, name, msg)\n",
      "  File \"../src/backyard_flyer.py\", line 89, in local_position_callback\n",
      "    self.landing_transistion()\n",
      "AttributeError: 'BackyardFlyer' object has no attribute 'landing_transistion'\n"
     ]
    },
    {
     "name": "stdout",
     "output_type": "stream",
     "text": [
      "message: GLOBAL_POSITION_INT {time_boot_ms : 215601, lat : 476859212, lon : 86583433, alt : 403210, relative_alt : 551, vx : 6, vy : 2, vz : -26, hdg : 28606}\n",
      "VehicleMode:ALT_HOLD   States.FLIP   Mission.NONE\n"
     ]
    },
    {
     "name": "stderr",
     "output_type": "stream",
     "text": [
      "ERROR:dronekit:Exception in message handler for GLOBAL_POSITION_INT\n",
      "Traceback (most recent call last):\n",
      "  File \"/usr/local/lib/python3.8/dist-packages/dronekit/__init__.py\", line 1531, in notify_message_listeners\n",
      "    fn(self, name, msg)\n",
      "  File \"../src/backyard_flyer.py\", line 89, in local_position_callback\n",
      "    self.landing_transistion()\n",
      "AttributeError: 'BackyardFlyer' object has no attribute 'landing_transistion'\n"
     ]
    },
    {
     "name": "stdout",
     "output_type": "stream",
     "text": [
      "message: GLOBAL_POSITION_INT {time_boot_ms : 215851, lat : 476859211, lon : 86583432, alt : 403190, relative_alt : 534, vx : 6, vy : 2, vz : -25, hdg : 28610}\n",
      "VehicleMode:ALT_HOLD   States.FLIP   Mission.NONE\n"
     ]
    },
    {
     "name": "stderr",
     "output_type": "stream",
     "text": [
      "ERROR:dronekit:Exception in message handler for GLOBAL_POSITION_INT\n",
      "Traceback (most recent call last):\n",
      "  File \"/usr/local/lib/python3.8/dist-packages/dronekit/__init__.py\", line 1531, in notify_message_listeners\n",
      "    fn(self, name, msg)\n",
      "  File \"../src/backyard_flyer.py\", line 89, in local_position_callback\n",
      "    self.landing_transistion()\n",
      "AttributeError: 'BackyardFlyer' object has no attribute 'landing_transistion'\n"
     ]
    },
    {
     "name": "stdout",
     "output_type": "stream",
     "text": [
      "message: GLOBAL_POSITION_INT {time_boot_ms : 216351, lat : 476859211, lon : 86583431, alt : 403160, relative_alt : 504, vx : 6, vy : 2, vz : -24, hdg : 28616}\n",
      "VehicleMode:ALT_HOLD   States.FLIP   Mission.NONE\n"
     ]
    },
    {
     "name": "stderr",
     "output_type": "stream",
     "text": [
      "ERROR:dronekit:Exception in message handler for GLOBAL_POSITION_INT\n",
      "Traceback (most recent call last):\n",
      "  File \"/usr/local/lib/python3.8/dist-packages/dronekit/__init__.py\", line 1531, in notify_message_listeners\n",
      "    fn(self, name, msg)\n",
      "  File \"../src/backyard_flyer.py\", line 89, in local_position_callback\n",
      "    self.landing_transistion()\n",
      "AttributeError: 'BackyardFlyer' object has no attribute 'landing_transistion'\n"
     ]
    },
    {
     "name": "stdout",
     "output_type": "stream",
     "text": [
      "message: GLOBAL_POSITION_INT {time_boot_ms : 216601, lat : 476859211, lon : 86583430, alt : 403140, relative_alt : 488, vx : 6, vy : 2, vz : -23, hdg : 28620}\n",
      "VehicleMode:ALT_HOLD   States.FLIP   Mission.NONE\n"
     ]
    },
    {
     "name": "stderr",
     "output_type": "stream",
     "text": [
      "ERROR:dronekit:Exception in message handler for GLOBAL_POSITION_INT\n",
      "Traceback (most recent call last):\n",
      "  File \"/usr/local/lib/python3.8/dist-packages/dronekit/__init__.py\", line 1531, in notify_message_listeners\n",
      "    fn(self, name, msg)\n",
      "  File \"../src/backyard_flyer.py\", line 89, in local_position_callback\n",
      "    self.landing_transistion()\n",
      "AttributeError: 'BackyardFlyer' object has no attribute 'landing_transistion'\n"
     ]
    },
    {
     "name": "stdout",
     "output_type": "stream",
     "text": [
      "message: GLOBAL_POSITION_INT {time_boot_ms : 217101, lat : 476859210, lon : 86583430, alt : 403110, relative_alt : 459, vx : 6, vy : 3, vz : -22, hdg : 28627}\n",
      "VehicleMode:ALT_HOLD   States.FLIP   Mission.NONE\n"
     ]
    },
    {
     "name": "stderr",
     "output_type": "stream",
     "text": [
      "ERROR:dronekit:Exception in message handler for GLOBAL_POSITION_INT\n",
      "Traceback (most recent call last):\n",
      "  File \"/usr/local/lib/python3.8/dist-packages/dronekit/__init__.py\", line 1531, in notify_message_listeners\n",
      "    fn(self, name, msg)\n",
      "  File \"../src/backyard_flyer.py\", line 89, in local_position_callback\n",
      "    self.landing_transistion()\n",
      "AttributeError: 'BackyardFlyer' object has no attribute 'landing_transistion'\n"
     ]
    },
    {
     "name": "stdout",
     "output_type": "stream",
     "text": [
      "message: GLOBAL_POSITION_INT {time_boot_ms : 217351, lat : 476859210, lon : 86583430, alt : 403100, relative_alt : 445, vx : 6, vy : 3, vz : -22, hdg : 28631}\n",
      "VehicleMode:ALT_HOLD   States.FLIP   Mission.NONE\n"
     ]
    },
    {
     "name": "stderr",
     "output_type": "stream",
     "text": [
      "ERROR:dronekit:Exception in message handler for GLOBAL_POSITION_INT\n",
      "Traceback (most recent call last):\n",
      "  File \"/usr/local/lib/python3.8/dist-packages/dronekit/__init__.py\", line 1531, in notify_message_listeners\n",
      "    fn(self, name, msg)\n",
      "  File \"../src/backyard_flyer.py\", line 89, in local_position_callback\n",
      "    self.landing_transistion()\n",
      "AttributeError: 'BackyardFlyer' object has no attribute 'landing_transistion'\n"
     ]
    },
    {
     "name": "stdout",
     "output_type": "stream",
     "text": [
      "message: GLOBAL_POSITION_INT {time_boot_ms : 217601, lat : 476859210, lon : 86583430, alt : 403090, relative_alt : 432, vx : 6, vy : 3, vz : -21, hdg : 28634}\n",
      "VehicleMode:ALT_HOLD   States.FLIP   Mission.NONE\n"
     ]
    },
    {
     "name": "stderr",
     "output_type": "stream",
     "text": [
      "ERROR:dronekit:Exception in message handler for GLOBAL_POSITION_INT\n",
      "Traceback (most recent call last):\n",
      "  File \"/usr/local/lib/python3.8/dist-packages/dronekit/__init__.py\", line 1531, in notify_message_listeners\n",
      "    fn(self, name, msg)\n",
      "  File \"../src/backyard_flyer.py\", line 89, in local_position_callback\n",
      "    self.landing_transistion()\n",
      "AttributeError: 'BackyardFlyer' object has no attribute 'landing_transistion'\n"
     ]
    },
    {
     "name": "stdout",
     "output_type": "stream",
     "text": [
      "message: GLOBAL_POSITION_INT {time_boot_ms : 217851, lat : 476859210, lon : 86583430, alt : 403080, relative_alt : 421, vx : 5, vy : 2, vz : -21, hdg : 28637}\n",
      "VehicleMode:ALT_HOLD   States.FLIP   Mission.NONE\n"
     ]
    },
    {
     "name": "stderr",
     "output_type": "stream",
     "text": [
      "ERROR:dronekit:Exception in message handler for GLOBAL_POSITION_INT\n",
      "Traceback (most recent call last):\n",
      "  File \"/usr/local/lib/python3.8/dist-packages/dronekit/__init__.py\", line 1531, in notify_message_listeners\n",
      "    fn(self, name, msg)\n",
      "  File \"../src/backyard_flyer.py\", line 89, in local_position_callback\n",
      "    self.landing_transistion()\n",
      "AttributeError: 'BackyardFlyer' object has no attribute 'landing_transistion'\n"
     ]
    },
    {
     "name": "stdout",
     "output_type": "stream",
     "text": [
      "message: GLOBAL_POSITION_INT {time_boot_ms : 218101, lat : 476859209, lon : 86583429, alt : 403070, relative_alt : 412, vx : 5, vy : 2, vz : -21, hdg : 28640}\n",
      "VehicleMode:ALT_HOLD   States.FLIP   Mission.NONE\n"
     ]
    },
    {
     "name": "stderr",
     "output_type": "stream",
     "text": [
      "ERROR:dronekit:Exception in message handler for GLOBAL_POSITION_INT\n",
      "Traceback (most recent call last):\n",
      "  File \"/usr/local/lib/python3.8/dist-packages/dronekit/__init__.py\", line 1531, in notify_message_listeners\n",
      "    fn(self, name, msg)\n",
      "  File \"../src/backyard_flyer.py\", line 89, in local_position_callback\n",
      "    self.landing_transistion()\n",
      "AttributeError: 'BackyardFlyer' object has no attribute 'landing_transistion'\n"
     ]
    },
    {
     "name": "stdout",
     "output_type": "stream",
     "text": [
      "message: GLOBAL_POSITION_INT {time_boot_ms : 218351, lat : 476859209, lon : 86583429, alt : 403060, relative_alt : 403, vx : 5, vy : 2, vz : -21, hdg : 28643}\n",
      "VehicleMode:ALT_HOLD   States.FLIP   Mission.NONE\n"
     ]
    },
    {
     "name": "stderr",
     "output_type": "stream",
     "text": [
      "ERROR:dronekit:Exception in message handler for GLOBAL_POSITION_INT\n",
      "Traceback (most recent call last):\n",
      "  File \"/usr/local/lib/python3.8/dist-packages/dronekit/__init__.py\", line 1531, in notify_message_listeners\n",
      "    fn(self, name, msg)\n",
      "  File \"../src/backyard_flyer.py\", line 89, in local_position_callback\n",
      "    self.landing_transistion()\n",
      "AttributeError: 'BackyardFlyer' object has no attribute 'landing_transistion'\n"
     ]
    },
    {
     "name": "stdout",
     "output_type": "stream",
     "text": [
      "message: GLOBAL_POSITION_INT {time_boot_ms : 219351, lat : 476859208, lon : 86583428, alt : 403030, relative_alt : 378, vx : 4, vy : 3, vz : -20, hdg : 28655}\n",
      "VehicleMode:ALT_HOLD   States.FLIP   Mission.NONE\n"
     ]
    },
    {
     "name": "stderr",
     "output_type": "stream",
     "text": [
      "ERROR:dronekit:Exception in message handler for GLOBAL_POSITION_INT\n",
      "Traceback (most recent call last):\n",
      "  File \"/usr/local/lib/python3.8/dist-packages/dronekit/__init__.py\", line 1531, in notify_message_listeners\n",
      "    fn(self, name, msg)\n",
      "  File \"../src/backyard_flyer.py\", line 89, in local_position_callback\n",
      "    self.landing_transistion()\n",
      "AttributeError: 'BackyardFlyer' object has no attribute 'landing_transistion'\n"
     ]
    },
    {
     "name": "stdout",
     "output_type": "stream",
     "text": [
      "message: GLOBAL_POSITION_INT {time_boot_ms : 219601, lat : 476859208, lon : 86583428, alt : 403030, relative_alt : 373, vx : 4, vy : 3, vz : -20, hdg : 28658}\n",
      "VehicleMode:ALT_HOLD   States.FLIP   Mission.NONE\n"
     ]
    },
    {
     "name": "stderr",
     "output_type": "stream",
     "text": [
      "ERROR:dronekit:Exception in message handler for GLOBAL_POSITION_INT\n",
      "Traceback (most recent call last):\n",
      "  File \"/usr/local/lib/python3.8/dist-packages/dronekit/__init__.py\", line 1531, in notify_message_listeners\n",
      "    fn(self, name, msg)\n",
      "  File \"../src/backyard_flyer.py\", line 89, in local_position_callback\n",
      "    self.landing_transistion()\n",
      "AttributeError: 'BackyardFlyer' object has no attribute 'landing_transistion'\n"
     ]
    },
    {
     "name": "stdout",
     "output_type": "stream",
     "text": [
      "message: GLOBAL_POSITION_INT {time_boot_ms : 220352, lat : 476859207, lon : 86583428, alt : 403020, relative_alt : 368, vx : 5, vy : 3, vz : -20, hdg : 28669}\n",
      "VehicleMode:ALT_HOLD   States.FLIP   Mission.NONE\n"
     ]
    },
    {
     "name": "stderr",
     "output_type": "stream",
     "text": [
      "ERROR:dronekit:Exception in message handler for GLOBAL_POSITION_INT\n",
      "Traceback (most recent call last):\n",
      "  File \"/usr/local/lib/python3.8/dist-packages/dronekit/__init__.py\", line 1531, in notify_message_listeners\n",
      "    fn(self, name, msg)\n",
      "  File \"../src/backyard_flyer.py\", line 89, in local_position_callback\n",
      "    self.landing_transistion()\n",
      "AttributeError: 'BackyardFlyer' object has no attribute 'landing_transistion'\n"
     ]
    },
    {
     "name": "stdout",
     "output_type": "stream",
     "text": [
      "message: GLOBAL_POSITION_INT {time_boot_ms : 220851, lat : 476859206, lon : 86583427, alt : 403020, relative_alt : 369, vx : 5, vy : 3, vz : -20, hdg : 28676}\n",
      "VehicleMode:ALT_HOLD   States.FLIP   Mission.NONE\n"
     ]
    },
    {
     "name": "stderr",
     "output_type": "stream",
     "text": [
      "ERROR:dronekit:Exception in message handler for GLOBAL_POSITION_INT\n",
      "Traceback (most recent call last):\n",
      "  File \"/usr/local/lib/python3.8/dist-packages/dronekit/__init__.py\", line 1531, in notify_message_listeners\n",
      "    fn(self, name, msg)\n",
      "  File \"../src/backyard_flyer.py\", line 89, in local_position_callback\n",
      "    self.landing_transistion()\n",
      "AttributeError: 'BackyardFlyer' object has no attribute 'landing_transistion'\n"
     ]
    },
    {
     "name": "stdout",
     "output_type": "stream",
     "text": [
      "message: GLOBAL_POSITION_INT {time_boot_ms : 221101, lat : 476859206, lon : 86583427, alt : 403030, relative_alt : 371, vx : 5, vy : 3, vz : -21, hdg : 28679}\n",
      "VehicleMode:ALT_HOLD   States.FLIP   Mission.NONE\n"
     ]
    },
    {
     "name": "stderr",
     "output_type": "stream",
     "text": [
      "ERROR:dronekit:Exception in message handler for GLOBAL_POSITION_INT\n",
      "Traceback (most recent call last):\n",
      "  File \"/usr/local/lib/python3.8/dist-packages/dronekit/__init__.py\", line 1531, in notify_message_listeners\n",
      "    fn(self, name, msg)\n",
      "  File \"../src/backyard_flyer.py\", line 89, in local_position_callback\n",
      "    self.landing_transistion()\n",
      "AttributeError: 'BackyardFlyer' object has no attribute 'landing_transistion'\n"
     ]
    },
    {
     "name": "stdout",
     "output_type": "stream",
     "text": [
      "message: GLOBAL_POSITION_INT {time_boot_ms : 221351, lat : 476859206, lon : 86583425, alt : 403040, relative_alt : 386, vx : 5, vy : 2, vz : -21, hdg : 28683}\n",
      "VehicleMode:ALT_HOLD   States.FLIP   Mission.NONE\n"
     ]
    },
    {
     "name": "stderr",
     "output_type": "stream",
     "text": [
      "ERROR:dronekit:Exception in message handler for GLOBAL_POSITION_INT\n",
      "Traceback (most recent call last):\n",
      "  File \"/usr/local/lib/python3.8/dist-packages/dronekit/__init__.py\", line 1531, in notify_message_listeners\n",
      "    fn(self, name, msg)\n",
      "  File \"../src/backyard_flyer.py\", line 89, in local_position_callback\n",
      "    self.landing_transistion()\n",
      "AttributeError: 'BackyardFlyer' object has no attribute 'landing_transistion'\n"
     ]
    },
    {
     "name": "stdout",
     "output_type": "stream",
     "text": [
      "message: GLOBAL_POSITION_INT {time_boot_ms : 221601, lat : 476859206, lon : 86583424, alt : 403070, relative_alt : 416, vx : 5, vy : 2, vz : -23, hdg : 28686}\n",
      "VehicleMode:ALT_HOLD   States.FLIP   Mission.NONE\n"
     ]
    },
    {
     "name": "stderr",
     "output_type": "stream",
     "text": [
      "ERROR:dronekit:Exception in message handler for GLOBAL_POSITION_INT\n",
      "Traceback (most recent call last):\n",
      "  File \"/usr/local/lib/python3.8/dist-packages/dronekit/__init__.py\", line 1531, in notify_message_listeners\n",
      "    fn(self, name, msg)\n",
      "  File \"../src/backyard_flyer.py\", line 89, in local_position_callback\n",
      "    self.landing_transistion()\n",
      "AttributeError: 'BackyardFlyer' object has no attribute 'landing_transistion'\n"
     ]
    },
    {
     "name": "stdout",
     "output_type": "stream",
     "text": [
      "message: GLOBAL_POSITION_INT {time_boot_ms : 221851, lat : 476859206, lon : 86583424, alt : 403100, relative_alt : 447, vx : 6, vy : 2, vz : -24, hdg : 28690}\n",
      "VehicleMode:ALT_HOLD   States.FLIP   Mission.NONE\n"
     ]
    },
    {
     "name": "stderr",
     "output_type": "stream",
     "text": [
      "ERROR:dronekit:Exception in message handler for GLOBAL_POSITION_INT\n",
      "Traceback (most recent call last):\n",
      "  File \"/usr/local/lib/python3.8/dist-packages/dronekit/__init__.py\", line 1531, in notify_message_listeners\n",
      "    fn(self, name, msg)\n",
      "  File \"../src/backyard_flyer.py\", line 89, in local_position_callback\n",
      "    self.landing_transistion()\n",
      "AttributeError: 'BackyardFlyer' object has no attribute 'landing_transistion'\n"
     ]
    },
    {
     "name": "stdout",
     "output_type": "stream",
     "text": [
      "message: GLOBAL_POSITION_INT {time_boot_ms : 222351, lat : 476859206, lon : 86583422, alt : 403170, relative_alt : 518, vx : 6, vy : 2, vz : -26, hdg : 28696}\n",
      "VehicleMode:ALT_HOLD   States.FLIP   Mission.NONE\n"
     ]
    },
    {
     "name": "stderr",
     "output_type": "stream",
     "text": [
      "ERROR:dronekit:Exception in message handler for GLOBAL_POSITION_INT\n",
      "Traceback (most recent call last):\n",
      "  File \"/usr/local/lib/python3.8/dist-packages/dronekit/__init__.py\", line 1531, in notify_message_listeners\n",
      "    fn(self, name, msg)\n",
      "  File \"../src/backyard_flyer.py\", line 89, in local_position_callback\n",
      "    self.landing_transistion()\n",
      "AttributeError: 'BackyardFlyer' object has no attribute 'landing_transistion'\n"
     ]
    },
    {
     "name": "stdout",
     "output_type": "stream",
     "text": [
      "message: GLOBAL_POSITION_INT {time_boot_ms : 222601, lat : 476859207, lon : 86583422, alt : 403210, relative_alt : 554, vx : 7, vy : 2, vz : -28, hdg : 28699}\n",
      "VehicleMode:ALT_HOLD   States.FLIP   Mission.NONE\n"
     ]
    },
    {
     "name": "stderr",
     "output_type": "stream",
     "text": [
      "ERROR:dronekit:Exception in message handler for GLOBAL_POSITION_INT\n",
      "Traceback (most recent call last):\n",
      "  File \"/usr/local/lib/python3.8/dist-packages/dronekit/__init__.py\", line 1531, in notify_message_listeners\n",
      "    fn(self, name, msg)\n",
      "  File \"../src/backyard_flyer.py\", line 89, in local_position_callback\n",
      "    self.landing_transistion()\n",
      "AttributeError: 'BackyardFlyer' object has no attribute 'landing_transistion'\n"
     ]
    },
    {
     "name": "stdout",
     "output_type": "stream",
     "text": [
      "message: GLOBAL_POSITION_INT {time_boot_ms : 223351, lat : 476859207, lon : 86583420, alt : 403280, relative_alt : 621, vx : 7, vy : 2, vz : -29, hdg : 28710}\n",
      "VehicleMode:ALT_HOLD   States.FLIP   Mission.NONE\n"
     ]
    },
    {
     "name": "stderr",
     "output_type": "stream",
     "text": [
      "ERROR:dronekit:Exception in message handler for GLOBAL_POSITION_INT\n",
      "Traceback (most recent call last):\n",
      "  File \"/usr/local/lib/python3.8/dist-packages/dronekit/__init__.py\", line 1531, in notify_message_listeners\n",
      "    fn(self, name, msg)\n",
      "  File \"../src/backyard_flyer.py\", line 89, in local_position_callback\n",
      "    self.landing_transistion()\n",
      "AttributeError: 'BackyardFlyer' object has no attribute 'landing_transistion'\n"
     ]
    },
    {
     "name": "stdout",
     "output_type": "stream",
     "text": [
      "message: GLOBAL_POSITION_INT {time_boot_ms : 223601, lat : 476859207, lon : 86583419, alt : 403280, relative_alt : 626, vx : 7, vy : 2, vz : -29, hdg : 28713}\n",
      "VehicleMode:ALT_HOLD   States.FLIP   Mission.NONE\n"
     ]
    },
    {
     "name": "stderr",
     "output_type": "stream",
     "text": [
      "ERROR:dronekit:Exception in message handler for GLOBAL_POSITION_INT\n",
      "Traceback (most recent call last):\n",
      "  File \"/usr/local/lib/python3.8/dist-packages/dronekit/__init__.py\", line 1531, in notify_message_listeners\n",
      "    fn(self, name, msg)\n",
      "  File \"../src/backyard_flyer.py\", line 89, in local_position_callback\n",
      "    self.landing_transistion()\n",
      "AttributeError: 'BackyardFlyer' object has no attribute 'landing_transistion'\n"
     ]
    },
    {
     "name": "stdout",
     "output_type": "stream",
     "text": [
      "message: GLOBAL_POSITION_INT {time_boot_ms : 223851, lat : 476859207, lon : 86583419, alt : 403280, relative_alt : 625, vx : 7, vy : 2, vz : -29, hdg : 28717}\n",
      "VehicleMode:ALT_HOLD   States.FLIP   Mission.NONE\n"
     ]
    },
    {
     "name": "stderr",
     "output_type": "stream",
     "text": [
      "ERROR:dronekit:Exception in message handler for GLOBAL_POSITION_INT\n",
      "Traceback (most recent call last):\n",
      "  File \"/usr/local/lib/python3.8/dist-packages/dronekit/__init__.py\", line 1531, in notify_message_listeners\n",
      "    fn(self, name, msg)\n",
      "  File \"../src/backyard_flyer.py\", line 89, in local_position_callback\n",
      "    self.landing_transistion()\n",
      "AttributeError: 'BackyardFlyer' object has no attribute 'landing_transistion'\n"
     ]
    },
    {
     "name": "stdout",
     "output_type": "stream",
     "text": [
      "message: GLOBAL_POSITION_INT {time_boot_ms : 224101, lat : 476859206, lon : 86583418, alt : 403280, relative_alt : 622, vx : 7, vy : 2, vz : -28, hdg : 28720}\n",
      "VehicleMode:ALT_HOLD   States.FLIP   Mission.NONE\n"
     ]
    },
    {
     "name": "stderr",
     "output_type": "stream",
     "text": [
      "ERROR:dronekit:Exception in message handler for GLOBAL_POSITION_INT\n",
      "Traceback (most recent call last):\n",
      "  File \"/usr/local/lib/python3.8/dist-packages/dronekit/__init__.py\", line 1531, in notify_message_listeners\n",
      "    fn(self, name, msg)\n",
      "  File \"../src/backyard_flyer.py\", line 89, in local_position_callback\n",
      "    self.landing_transistion()\n",
      "AttributeError: 'BackyardFlyer' object has no attribute 'landing_transistion'\n"
     ]
    },
    {
     "name": "stdout",
     "output_type": "stream",
     "text": [
      "message: GLOBAL_POSITION_INT {time_boot_ms : 224351, lat : 476859206, lon : 86583417, alt : 403270, relative_alt : 612, vx : 7, vy : 2, vz : -28, hdg : 28723}\n",
      "VehicleMode:ALT_HOLD   States.FLIP   Mission.NONE\n"
     ]
    },
    {
     "name": "stderr",
     "output_type": "stream",
     "text": [
      "ERROR:dronekit:Exception in message handler for GLOBAL_POSITION_INT\n",
      "Traceback (most recent call last):\n",
      "  File \"/usr/local/lib/python3.8/dist-packages/dronekit/__init__.py\", line 1531, in notify_message_listeners\n",
      "    fn(self, name, msg)\n",
      "  File \"../src/backyard_flyer.py\", line 89, in local_position_callback\n",
      "    self.landing_transistion()\n",
      "AttributeError: 'BackyardFlyer' object has no attribute 'landing_transistion'\n"
     ]
    },
    {
     "name": "stdout",
     "output_type": "stream",
     "text": [
      "message: GLOBAL_POSITION_INT {time_boot_ms : 224851, lat : 476859205, lon : 86583415, alt : 403240, relative_alt : 585, vx : 7, vy : 2, vz : -26, hdg : 28728}\n",
      "VehicleMode:ALT_HOLD   States.FLIP   Mission.NONE\n"
     ]
    },
    {
     "name": "stderr",
     "output_type": "stream",
     "text": [
      "ERROR:dronekit:Exception in message handler for GLOBAL_POSITION_INT\n",
      "Traceback (most recent call last):\n",
      "  File \"/usr/local/lib/python3.8/dist-packages/dronekit/__init__.py\", line 1531, in notify_message_listeners\n",
      "    fn(self, name, msg)\n",
      "  File \"../src/backyard_flyer.py\", line 89, in local_position_callback\n",
      "    self.landing_transistion()\n",
      "AttributeError: 'BackyardFlyer' object has no attribute 'landing_transistion'\n"
     ]
    },
    {
     "name": "stdout",
     "output_type": "stream",
     "text": [
      "message: GLOBAL_POSITION_INT {time_boot_ms : 225601, lat : 476859203, lon : 86583414, alt : 403200, relative_alt : 543, vx : 6, vy : 3, vz : -24, hdg : 28737}\n",
      "VehicleMode:ALT_HOLD   States.FLIP   Mission.NONE\n"
     ]
    },
    {
     "name": "stderr",
     "output_type": "stream",
     "text": [
      "ERROR:dronekit:Exception in message handler for GLOBAL_POSITION_INT\n",
      "Traceback (most recent call last):\n",
      "  File \"/usr/local/lib/python3.8/dist-packages/dronekit/__init__.py\", line 1531, in notify_message_listeners\n",
      "    fn(self, name, msg)\n",
      "  File \"../src/backyard_flyer.py\", line 89, in local_position_callback\n",
      "    self.landing_transistion()\n",
      "AttributeError: 'BackyardFlyer' object has no attribute 'landing_transistion'\n"
     ]
    },
    {
     "name": "stdout",
     "output_type": "stream",
     "text": [
      "message: GLOBAL_POSITION_INT {time_boot_ms : 225851, lat : 476859202, lon : 86583413, alt : 403180, relative_alt : 527, vx : 6, vy : 3, vz : -24, hdg : 28739}\n",
      "VehicleMode:ALT_HOLD   States.FLIP   Mission.NONE\n"
     ]
    },
    {
     "name": "stderr",
     "output_type": "stream",
     "text": [
      "ERROR:dronekit:Exception in message handler for GLOBAL_POSITION_INT\n",
      "Traceback (most recent call last):\n",
      "  File \"/usr/local/lib/python3.8/dist-packages/dronekit/__init__.py\", line 1531, in notify_message_listeners\n",
      "    fn(self, name, msg)\n",
      "  File \"../src/backyard_flyer.py\", line 89, in local_position_callback\n",
      "    self.landing_transistion()\n",
      "AttributeError: 'BackyardFlyer' object has no attribute 'landing_transistion'\n"
     ]
    },
    {
     "name": "stdout",
     "output_type": "stream",
     "text": [
      "message: GLOBAL_POSITION_INT {time_boot_ms : 226101, lat : 476859202, lon : 86583412, alt : 403170, relative_alt : 513, vx : 6, vy : 3, vz : -23, hdg : 28742}\n",
      "VehicleMode:ALT_HOLD   States.FLIP   Mission.NONE\n"
     ]
    },
    {
     "name": "stderr",
     "output_type": "stream",
     "text": [
      "WARNING:dronekit:Link timeout, no heartbeat in last 5 seconds\n",
      "ERROR:dronekit.mavlink:Exception in MAVLink input loop\n",
      "Traceback (most recent call last):\n",
      "  File \"/usr/local/lib/python3.8/dist-packages/dronekit/mavlink.py\", line 211, in mavlink_thread_in\n",
      "    fn(self)\n",
      "  File \"/usr/local/lib/python3.8/dist-packages/dronekit/__init__.py\", line 1370, in listener\n",
      "    raise APIException('No heartbeat in %s seconds, aborting.' %\n",
      "dronekit.APIException: No heartbeat in 30 seconds, aborting.\n"
     ]
    }
   ],
   "source": [
    "drone.startFlipMission()"
   ]
  },
  {
   "cell_type": "code",
   "execution_count": null,
   "metadata": {},
   "outputs": [],
   "source": []
  },
  {
   "cell_type": "code",
   "execution_count": null,
   "metadata": {},
   "outputs": [],
   "source": []
  }
 ],
 "metadata": {
  "kernelspec": {
   "display_name": "Python 3",
   "language": "python",
   "name": "python3"
  },
  "language_info": {
   "codemirror_mode": {
    "name": "ipython",
    "version": 3
   },
   "file_extension": ".py",
   "mimetype": "text/x-python",
   "name": "python",
   "nbconvert_exporter": "python",
   "pygments_lexer": "ipython3",
   "version": "3.8.2"
  }
 },
 "nbformat": 4,
 "nbformat_minor": 4
}
